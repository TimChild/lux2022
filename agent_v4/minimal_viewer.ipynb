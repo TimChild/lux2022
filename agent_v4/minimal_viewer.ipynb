{
 "cells": [
  {
   "cell_type": "code",
   "execution_count": 1,
   "id": "30934b41-3994-40e2-8951-4bd8ec6851ea",
   "metadata": {},
   "outputs": [
    {
     "name": "stdout",
     "output_type": "stream",
     "text": [
      "\u001b[31mplayer_0, main.py: Traceback (most recent call last):\n",
      "\n",
      "\u001b[0m\u001b[31mplayer_0, main.py:   File \"main.py\", line 6, in <module>\n",
      "\n",
      "\u001b[0m\u001b[31mplayer_0, main.py:     from agent import Agent\n",
      "\n",
      "\u001b[0m\u001b[31mplayer_0, main.py:   File \"D:\\GitHub\\lux2022\\agent_v4\\agent.py\", line 7, in <module>\n",
      "\n",
      "\u001b[0m\u001b[31mplayer_0, main.py:     from .actions import unit_should_consider_acting, factory_should_consider_acting, calculate_high_level_unit_action, \\\n",
      "\n",
      "\u001b[0m\u001b[31mplayer_0, main.py: ImportError: attempted relative import with no known parent package\n",
      "\n",
      "\u001b[0m\u001b[31mplayer_1, main.py: Traceback (most recent call last):\n",
      "\n",
      "\u001b[0m\u001b[31mplayer_1, main.py:   File \"main.py\", line 6, in <module>\n",
      "\n",
      "\u001b[0m\u001b[31mplayer_1, main.py:     from agent import Agent\n",
      "\n",
      "\u001b[0m\u001b[31mplayer_1, main.py:   File \"D:\\GitHub\\lux2022\\agent_v4\\agent.py\", line 7, in <module>\n",
      "\n",
      "\u001b[0m\u001b[31mplayer_1, main.py:     from .actions import unit_should_consider_acting, factory_should_consider_acting, calculate_high_level_unit_action, \\\n",
      "\n",
      "\u001b[0m\u001b[31mplayer_1, main.py: ImportError: attempted relative import with no known parent package\n",
      "\n",
      "\u001b[0m\u001b[31mplayer_0, main.py: cannot parse action ''\u001b[0m\n",
      "\u001b[31mplayer_1, main.py: cannot parse action ''\u001b[0m\n",
      "player_0 sent a invalid action None. Agent likely errored out somewhere, check above for stderr logs\n",
      "player_1 sent a invalid action None. Agent likely errored out somewhere, check above for stderr logs\n",
      "0.13499879837036133\n"
     ]
    },
    {
     "name": "stderr",
     "output_type": "stream",
     "text": [
      "Future exception was never retrieved\n",
      "future: <Future finished exception=BrokenPipeError(32, 'The pipe has been ended', None, 109, None)>\n",
      "Traceback (most recent call last):\n",
      "  File \"C:\\Users\\Child\\.conda\\envs\\lux2022\\lib\\asyncio\\proactor_events.py\", line 379, in _loop_writing\n",
      "    f.result()\n",
      "  File \"C:\\Users\\Child\\.conda\\envs\\lux2022\\lib\\asyncio\\windows_events.py\", line 812, in _poll\n",
      "    value = callback(transferred, key, ov)\n",
      "  File \"C:\\Users\\Child\\.conda\\envs\\lux2022\\lib\\asyncio\\windows_events.py\", line 538, in finish_send\n",
      "    return ov.getresult()\n",
      "BrokenPipeError: [WinError 109] The pipe has been ended\n",
      "Future exception was never retrieved\n",
      "future: <Future finished exception=BrokenPipeError(32, 'The pipe has been ended', None, 109, None)>\n",
      "Traceback (most recent call last):\n",
      "  File \"C:\\Users\\Child\\.conda\\envs\\lux2022\\lib\\asyncio\\proactor_events.py\", line 379, in _loop_writing\n",
      "    f.result()\n",
      "  File \"C:\\Users\\Child\\.conda\\envs\\lux2022\\lib\\asyncio\\windows_events.py\", line 812, in _poll\n",
      "    value = callback(transferred, key, ov)\n",
      "  File \"C:\\Users\\Child\\.conda\\envs\\lux2022\\lib\\asyncio\\windows_events.py\", line 538, in finish_send\n",
      "    return ov.getresult()\n",
      "BrokenPipeError: [WinError 109] The pipe has been ended\n"
     ]
    }
   ],
   "source": [
    "!luxai-s2 main.py main.py -v 2 -s 101 -o replay.html"
   ]
  },
  {
   "cell_type": "markdown",
   "id": "8fda916c-9e10-4e96-908f-d9f5054538f6",
   "metadata": {},
   "source": [
    "# Just double click replay.html to open window in jupyter lab\n",
    "This is just a note for above. The replays work well in tabls li"
   ]
  },
  {
   "cell_type": "code",
   "execution_count": 2,
   "id": "7479dff5-ada0-427e-b827-f95e27defa4d",
   "metadata": {},
   "outputs": [],
   "source": [
    "# !pip install --upgrade luxai_s2\n",
    "# !pip install importlib-metadata==4.13.0\n",
    "# !pip install --upgrade moviepy # needed to render videos of episodes\n",
    "# !pip install opencv-python\n"
   ]
  },
  {
   "cell_type": "code",
   "execution_count": 3,
   "id": "3372c1b1-8337-47be-8ea2-96f224d62f1c",
   "metadata": {},
   "outputs": [
    {
     "name": "stdout",
     "output_type": "stream",
     "text": [
      "D:\\GitHub\\lux2022\\agent_v4\n",
      "C:\\Users\\Child\\.conda\\envs\\lux2022\\python38.zip\n",
      "C:\\Users\\Child\\.conda\\envs\\lux2022\\DLLs\n",
      "C:\\Users\\Child\\.conda\\envs\\lux2022\\lib\n",
      "C:\\Users\\Child\\.conda\\envs\\lux2022\n",
      "\n",
      "C:\\Users\\Child\\AppData\\Roaming\\Python\\Python38\\site-packages\n",
      "C:\\Users\\Child\\.conda\\envs\\lux2022\\lib\\site-packages\n",
      "C:\\Users\\Child\\.conda\\envs\\lux2022\\lib\\site-packages\\win32\n",
      "C:\\Users\\Child\\.conda\\envs\\lux2022\\lib\\site-packages\\win32\\lib\n",
      "C:\\Users\\Child\\.conda\\envs\\lux2022\\lib\\site-packages\\Pythonwin\n",
      "D:\\GitHub\\lux2022\n"
     ]
    }
   ],
   "source": [
    "import sys\n",
    "import os\n",
    "sys.path.append(os.path.abspath(os.path.join('..')))\n",
    "print('\\n'.join(sys.path))"
   ]
  },
  {
   "cell_type": "code",
   "execution_count": 4,
   "id": "612327d6-464f-426c-88ce-ee1015e8fb4c",
   "metadata": {},
   "outputs": [
    {
     "ename": "ImportError",
     "evalue": "cannot import name 'GeneralObs' from partially initialized module 'agent_v4.agent' (most likely due to a circular import) (D:\\GitHub\\lux2022\\agent_v4\\agent.py)",
     "output_type": "error",
     "traceback": [
      "\u001b[1;31m---------------------------------------------------------------------------\u001b[0m",
      "\u001b[1;31mImportError\u001b[0m                               Traceback (most recent call last)",
      "Cell \u001b[1;32mIn[4], line 4\u001b[0m\n\u001b[0;32m      2\u001b[0m \u001b[38;5;28;01mimport\u001b[39;00m \u001b[38;5;21;01mmatplotlib\u001b[39;00m\u001b[38;5;21;01m.\u001b[39;00m\u001b[38;5;21;01mpyplot\u001b[39;00m \u001b[38;5;28;01mas\u001b[39;00m \u001b[38;5;21;01mplt\u001b[39;00m\n\u001b[0;32m      3\u001b[0m \u001b[38;5;28;01mimport\u001b[39;00m \u001b[38;5;21;01mnumpy\u001b[39;00m \u001b[38;5;28;01mas\u001b[39;00m \u001b[38;5;21;01mnp\u001b[39;00m\n\u001b[1;32m----> 4\u001b[0m \u001b[38;5;28;01mfrom\u001b[39;00m \u001b[38;5;21;01magent_v4\u001b[39;00m\u001b[38;5;21;01m.\u001b[39;00m\u001b[38;5;21;01magent\u001b[39;00m \u001b[38;5;28;01mimport\u001b[39;00m Agent\n",
      "File \u001b[1;32mD:\\GitHub\\lux2022\\agent_v4\\agent.py:7\u001b[0m\n\u001b[0;32m      3\u001b[0m \u001b[38;5;28;01mimport\u001b[39;00m \u001b[38;5;21;01mabc\u001b[39;00m\n\u001b[0;32m      5\u001b[0m \u001b[38;5;28;01mimport\u001b[39;00m \u001b[38;5;21;01mlogging\u001b[39;00m\n\u001b[1;32m----> 7\u001b[0m \u001b[38;5;28;01mfrom\u001b[39;00m \u001b[38;5;21;01m.\u001b[39;00m\u001b[38;5;21;01mactions\u001b[39;00m \u001b[38;5;28;01mimport\u001b[39;00m unit_should_consider_acting, factory_should_consider_acting, calculate_high_level_unit_action, \\\n\u001b[0;32m      8\u001b[0m     calculate_high_level_factory_actions\n\u001b[0;32m     10\u001b[0m logging\u001b[38;5;241m.\u001b[39mbasicConfig(filename\u001b[38;5;241m=\u001b[39m\u001b[38;5;124m'\u001b[39m\u001b[38;5;124magent_log.log\u001b[39m\u001b[38;5;124m'\u001b[39m, level\u001b[38;5;241m=\u001b[39mlogging\u001b[38;5;241m.\u001b[39mINFO)\n\u001b[0;32m     11\u001b[0m logging\u001b[38;5;241m.\u001b[39minfo(\u001b[38;5;124m'\u001b[39m\u001b[38;5;124mStarting Log\u001b[39m\u001b[38;5;124m'\u001b[39m)\n",
      "File \u001b[1;32mD:\\GitHub\\lux2022\\agent_v4\\actions.py:7\u001b[0m\n\u001b[0;32m      3\u001b[0m \u001b[38;5;28;01mimport\u001b[39;00m \u001b[38;5;21;01mabc\u001b[39;00m\n\u001b[0;32m      5\u001b[0m \u001b[38;5;28;01mimport\u001b[39;00m \u001b[38;5;21;01mnumpy\u001b[39;00m \u001b[38;5;28;01mas\u001b[39;00m \u001b[38;5;21;01mnp\u001b[39;00m\n\u001b[1;32m----> 7\u001b[0m \u001b[38;5;28;01mfrom\u001b[39;00m \u001b[38;5;21;01m.\u001b[39;00m\u001b[38;5;21;01magent\u001b[39;00m \u001b[38;5;28;01mimport\u001b[39;00m GeneralObs, UnitObs, FactoryObs\n\u001b[0;32m      8\u001b[0m \u001b[38;5;28;01mfrom\u001b[39;00m \u001b[38;5;21;01m.\u001b[39;00m\u001b[38;5;21;01mfactory_manager\u001b[39;00m \u001b[38;5;28;01mimport\u001b[39;00m FactoryManager\n\u001b[0;32m      9\u001b[0m \u001b[38;5;28;01mfrom\u001b[39;00m \u001b[38;5;21;01m.\u001b[39;00m\u001b[38;5;21;01mmaster_state\u001b[39;00m \u001b[38;5;28;01mimport\u001b[39;00m MasterState\n",
      "\u001b[1;31mImportError\u001b[0m: cannot import name 'GeneralObs' from partially initialized module 'agent_v4.agent' (most likely due to a circular import) (D:\\GitHub\\lux2022\\agent_v4\\agent.py)"
     ]
    }
   ],
   "source": [
    "from luxai_s2.env import LuxAI_S2\n",
    "import matplotlib.pyplot as plt\n",
    "import numpy as np\n",
    "from agent_v4.agent import Agent"
   ]
  },
  {
   "cell_type": "code",
   "execution_count": null,
   "id": "a3c284a8-5265-47b8-a7d0-5eba2680d8f3",
   "metadata": {},
   "outputs": [],
   "source": [
    "def animate(imgs, _return=True):\n",
    "    # using cv2 to generate videos as moviepy doesn't work on kaggle notebooks\n",
    "    import cv2\n",
    "    import os\n",
    "    import string\n",
    "    import random\n",
    "    video_name = ''.join(random.choice(string.ascii_letters) for i in range(18))+'.webm'\n",
    "    height, width, layers = imgs[0].shape\n",
    "    fourcc = cv2.VideoWriter_fourcc(*'VP90')\n",
    "    video = cv2.VideoWriter(video_name, fourcc, 10, (width,height))\n",
    "\n",
    "    for img in imgs:\n",
    "        img = cv2.cvtColor(img, cv2.COLOR_BGR2RGB)\n",
    "        video.write(img)\n",
    "    video.release()\n",
    "    if _return:\n",
    "        from IPython.display import Video\n",
    "        return Video(video_name)\n",
    "def interact(env, agents, steps):\n",
    "    # reset our env\n",
    "    obs = env.reset(seed=41)\n",
    "    np.random.seed(0)\n",
    "    imgs = []\n",
    "    step = 0\n",
    "    # Note that as the environment has two phases, we also keep track a value called \n",
    "    # `real_env_steps` in the environment state. The first phase ends once `real_env_steps` is 0 and used below\n",
    "\n",
    "    # iterate until phase 1 ends\n",
    "    while env.state.real_env_steps < 0:\n",
    "        if step >= steps: break\n",
    "        actions = {}\n",
    "        for player in env.agents:\n",
    "            o = obs[player]\n",
    "            a = agents[player].early_setup(step, o)\n",
    "            actions[player] = a\n",
    "        step += 1\n",
    "        obs, rewards, dones, infos = env.step(actions)\n",
    "        imgs += [env.render(\"rgb_array\", width=640, height=640)]\n",
    "    done = False\n",
    "    while not done:\n",
    "        if step >= steps: break\n",
    "        actions = {}\n",
    "        for player in env.agents:\n",
    "            o = obs[player]\n",
    "            a = agents[player].act(step, o)\n",
    "            actions[player] = a\n",
    "        step += 1\n",
    "        obs, rewards, dones, infos = env.step(actions)\n",
    "        imgs += [env.render(\"rgb_array\", width=640, height=640)]\n",
    "        done = dones[\"player_0\"] and dones[\"player_1\"]\n",
    "    return animate(imgs)"
   ]
  },
  {
   "cell_type": "code",
   "execution_count": null,
   "id": "e1ecdbcd-7922-45aa-ba8a-92a1fc93651b",
   "metadata": {},
   "outputs": [],
   "source": []
  },
  {
   "cell_type": "markdown",
   "id": "a0531b55-9b79-429f-ac56-482399f2736b",
   "metadata": {},
   "source": [
    "We can now create an environment and start interacting with it, as well as look at what the observation is like"
   ]
  },
  {
   "cell_type": "code",
   "execution_count": null,
   "id": "24a5cecd-2199-4726-9c3a-c76e35f251c7",
   "metadata": {},
   "outputs": [],
   "source": [
    "env = LuxAI_S2() # create the environment object\n",
    "obs = env.reset(seed=41) # resets an environment with a seed"
   ]
  },
  {
   "cell_type": "code",
   "execution_count": null,
   "id": "1b71145b-ba1a-4e95-ae59-bc971a92a631",
   "metadata": {},
   "outputs": [],
   "source": [
    "# the observation is always composed of observations for both players.\n",
    "obs.keys(), obs[\"player_0\"].keys()"
   ]
  },
  {
   "cell_type": "code",
   "execution_count": null,
   "id": "93dbf44e-4772-4066-8246-5af7880bc592",
   "metadata": {},
   "outputs": [],
   "source": [
    "# visualize the environment so far with rgb_array to get a quick look at the map\n",
    "# dark orange - high rubble, light orange - low rubble\n",
    "# blue = ice, yellow = ore\n",
    "img = env.render(\"rgb_array\", width=640, height=640)\n",
    "plt.imshow(img)"
   ]
  },
  {
   "cell_type": "code",
   "execution_count": null,
   "id": "6b9e844d-25e4-40d5-ba55-49064e6571e7",
   "metadata": {},
   "outputs": [],
   "source": [
    "# recreate our agents and run\n",
    "agents = {player: Agent(player, env.state.env_cfg) for player in env.agents}\n",
    "interact(env, agents, 25)"
   ]
  },
  {
   "cell_type": "code",
   "execution_count": null,
   "id": "eec55401-02a0-4ea9-8081-693d9f902194",
   "metadata": {},
   "outputs": [],
   "source": []
  },
  {
   "cell_type": "code",
   "execution_count": null,
   "id": "4e320209-167c-4a56-8816-e4ccd99c41ae",
   "metadata": {},
   "outputs": [],
   "source": []
  },
  {
   "cell_type": "code",
   "execution_count": null,
   "id": "ed95e994-6d92-400a-97dc-00e3215efa40",
   "metadata": {},
   "outputs": [],
   "source": []
  },
  {
   "cell_type": "markdown",
   "id": "6ee8d475-1214-4bf2-9cd5-9eef71b45f2e",
   "metadata": {},
   "source": [
    "## Create a submission\n",
    "Now we need to create a .tar.gz file with main.py (and agent.py) at the top level. We can then upload this!"
   ]
  },
  {
   "cell_type": "code",
   "execution_count": null,
   "id": "26788c5c-cc7f-4f79-8ee9-e2c418992215",
   "metadata": {},
   "outputs": [],
   "source": [
    "#!tar -czf submission.tar.gz *"
   ]
  },
  {
   "cell_type": "markdown",
   "id": "ba721fea-0a35-492f-9b86-6b5e7d96a52a",
   "metadata": {},
   "source": [
    "## Submit\n",
    "Now open the /kaggle/working folder and find submission.tar.gz, download that file, navigate to the \"MySubmissions\" tab in https://www.kaggle.com/c/lux-ai-season-2/ and upload your submission! It should play a validation match against itself and once it succeeds it will be automatically matched against other players' submissions. Newer submissions will be prioritized for games over older ones. Your team is limited in the number of succesful submissions per day so we highly recommend testing your bot locally before submitting."
   ]
  },
  {
   "cell_type": "code",
   "execution_count": null,
   "id": "3767b67b-686f-49f7-b288-0d8e8da9df6d",
   "metadata": {},
   "outputs": [],
   "source": []
  }
 ],
 "metadata": {
  "kernelspec": {
   "display_name": "Python 3 (ipykernel)",
   "language": "python",
   "name": "python3"
  },
  "language_info": {
   "codemirror_mode": {
    "name": "ipython",
    "version": 3
   },
   "file_extension": ".py",
   "mimetype": "text/x-python",
   "name": "python",
   "nbconvert_exporter": "python",
   "pygments_lexer": "ipython3",
   "version": "3.8.15"
  }
 },
 "nbformat": 4,
 "nbformat_minor": 5
}
