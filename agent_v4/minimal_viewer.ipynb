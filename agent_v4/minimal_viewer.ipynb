{
 "cells": [
  {
   "cell_type": "code",
   "execution_count": 9,
   "id": "5d94888a-eb71-4c92-ac01-ef6ba6a9aab0",
   "metadata": {},
   "outputs": [],
   "source": [
    "%load_ext lab_black"
   ]
  },
  {
   "cell_type": "markdown",
   "id": "906221b7-c5e2-4da6-907a-2fadbe13a79f",
   "metadata": {},
   "source": [
    "# Run Agent against itself"
   ]
  },
  {
   "cell_type": "code",
   "execution_count": 10,
   "id": "30934b41-3994-40e2-8951-4bd8ec6851ea",
   "metadata": {},
   "outputs": [
    {
     "name": "stdout",
     "output_type": "stream",
     "text": [
      "150: player_0 lost all factories\n",
      "150: player_1 lost all factories\n",
      "2.9819037914276123\n"
     ]
    }
   ],
   "source": [
    "!luxai-s2 main.py main.py -v 2 -s 101 -o replay.html"
   ]
  },
  {
   "cell_type": "markdown",
   "id": "8fda916c-9e10-4e96-908f-d9f5054538f6",
   "metadata": {},
   "source": [
    "## Just double click replay.html to open window in jupyter lab\n",
    "This is just a note for above. The replays work well in tabs"
   ]
  }
 ],
 "metadata": {
  "kernelspec": {
   "display_name": "Python 3 (ipykernel)",
   "language": "python",
   "name": "python3"
  },
  "language_info": {
   "codemirror_mode": {
    "name": "ipython",
    "version": 3
   },
   "file_extension": ".py",
   "mimetype": "text/x-python",
   "name": "python",
   "nbconvert_exporter": "python",
   "pygments_lexer": "ipython3",
   "version": "3.8.15"
  }
 },
 "nbformat": 4,
 "nbformat_minor": 5
}
