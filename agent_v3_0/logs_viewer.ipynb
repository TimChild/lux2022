{
 "cells": [
  {
   "cell_type": "code",
   "execution_count": 1,
   "id": "67dda433-3cc0-47c2-bc99-9c3d021416bc",
   "metadata": {},
   "outputs": [
    {
     "name": "stdout",
     "output_type": "stream",
     "text": [
      "50316188-0.json\n",
      "agent_logs\\50316188-0.json\n"
     ]
    }
   ],
   "source": [
    "from pathlib import Path\n",
    "import json\n",
    "from dictor import dictor\n",
    "from pprint import pprint\n",
    "\n",
    "# specify the folder path\n",
    "folder_path = Path('agent_logs/')\n",
    "\n",
    "# get a list of all files in the folder\n",
    "file_list = folder_path.glob('*.json')\n",
    "\n",
    "# sort the list based on last modified time\n",
    "file_list = sorted(file_list, key=lambda x: x.stat().st_mtime)\n",
    "\n",
    "# print the list of files in order of last modified time\n",
    "for file in file_list:\n",
    "    print(file.name)\n",
    "\n",
    "file_to_view = file_list[-1]\n",
    "print(file_to_view)\n",
    "\n",
    "with open(file_to_view, 'r') as f:\n",
    "    logs = json.load(f)\n",
    "    "
   ]
  },
  {
   "cell_type": "code",
   "execution_count": 2,
   "id": "2ce631bb-8918-4b90-8cb2-808ae69e3fb7",
   "metadata": {},
   "outputs": [
    {
     "name": "stdout",
     "output_type": "stream",
     "text": [
      "Traceback (most recent call last):\n",
      "  File \"/opt/conda/lib/python3.7/site-packages/kaggle_environments/agent.py\", line 159, in act\n",
      "    action = self.agent(*args)\n",
      "  File \"/opt/conda/lib/python3.7/site-packages/kaggle_environments/agent.py\", line 131, in callable_agent\n",
      "    if callable(agent) \\\n",
      "  File \"/kaggle_simulations/agent/main.py\", line 34, in agent_fn\n",
      "    actions = agent.act(step, obs, remainingOverageTime)\n",
      "  File \"/kaggle_simulations/agent/agent.py\", line 112, in act\n",
      "    factory_infos=factory_infos,\n",
      "  File \"/kaggle_simulations/agent/unit_action_planner.py\", line 778, in decide_unit_actions\n",
      "    rubble=self.master.maps.rubble,\n",
      "  File \"/kaggle_simulations/agent/collisions.py\", line 379, in __init__\n",
      "    self._init_arrays(friendly_units=friendly, enemy_units=enemy)\n",
      "  File \"/kaggle_simulations/agent/collisions.py\", line 421, in _init_arrays\n",
      "    self.add_unit(unit, is_enemy=is_enemy)\n",
      "  File \"/kaggle_simulations/agent/collisions.py\", line 514, in add_unit\n",
      "    self._add_path_to_array(unit, path, array, self.max_st\n"
     ]
    }
   ],
   "source": [
    "print(logs[-1][0]['stderr'])"
   ]
  },
  {
   "cell_type": "code",
   "execution_count": null,
   "id": "ac62e45e-c7e0-46e4-8ab2-24df551ba104",
   "metadata": {},
   "outputs": [],
   "source": []
  },
  {
   "cell_type": "code",
   "execution_count": null,
   "id": "d1941ce5-7739-4130-af29-59718a2e05fa",
   "metadata": {},
   "outputs": [],
   "source": []
  },
  {
   "cell_type": "code",
   "execution_count": null,
   "id": "2a250d73-3d13-473a-812f-d382d68a6bd4",
   "metadata": {},
   "outputs": [],
   "source": []
  },
  {
   "cell_type": "code",
   "execution_count": null,
   "id": "ddac17a3-560f-4406-9d4f-f5b1236ec289",
   "metadata": {},
   "outputs": [],
   "source": []
  },
  {
   "cell_type": "code",
   "execution_count": 49,
   "id": "50c3489b-d78d-4766-8ccb-c2e7f7c19798",
   "metadata": {},
   "outputs": [
    {
     "data": {
      "text/plain": [
       "1"
      ]
     },
     "execution_count": 49,
     "metadata": {},
     "output_type": "execute_result"
    }
   ],
   "source": [
    "round(0.9)"
   ]
  },
  {
   "cell_type": "code",
   "execution_count": 75,
   "id": "a03c70b2-37df-4b92-8cac-f4c1e3ef7293",
   "metadata": {},
   "outputs": [
    {
     "data": {
      "text/plain": [
       "61"
      ]
     },
     "execution_count": 75,
     "metadata": {},
     "output_type": "execute_result"
    }
   ],
   "source": [
    "np.sum(array)"
   ]
  },
  {
   "cell_type": "code",
   "execution_count": null,
   "id": "b1df8d34-8233-45e1-b533-7d6c6158ba71",
   "metadata": {},
   "outputs": [],
   "source": []
  }
 ],
 "metadata": {
  "kernelspec": {
   "display_name": "Python 3 (ipykernel)",
   "language": "python",
   "name": "python3"
  },
  "language_info": {
   "codemirror_mode": {
    "name": "ipython",
    "version": 3
   },
   "file_extension": ".py",
   "mimetype": "text/x-python",
   "name": "python",
   "nbconvert_exporter": "python",
   "pygments_lexer": "ipython3",
   "version": "3.8.15"
  }
 },
 "nbformat": 4,
 "nbformat_minor": 5
}
