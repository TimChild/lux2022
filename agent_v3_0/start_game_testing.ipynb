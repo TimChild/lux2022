{
 "cells": [
  {
   "cell_type": "code",
   "execution_count": 1,
   "id": "baa1c405-2d3f-435c-abd3-84688f19d9e9",
   "metadata": {},
   "outputs": [
    {
     "name": "stdout",
     "output_type": "stream",
     "text": [
      "Adding D:\\GitHub\\lux2022 to path\n"
     ]
    }
   ],
   "source": [
    "%load_ext lab_black\n",
    "%load_ext autoreload\n",
    "%autoreload 2\n",
    "\n",
    "import plotly.graph_objects as go\n",
    "import numpy as np\n",
    "import pandas as pd\n",
    "import logging\n",
    "import sys\n",
    "import os\n",
    "from pathlib import Path\n",
    "\n",
    "from util import MyEnv, figures_to_subplots, show_env\n",
    "from config import update_logging_level\n",
    "\n",
    "parent_dir = Path(os.getcwd()).resolve().parent\n",
    "if str(parent_dir) not in sys.path:\n",
    "    print(f\"Adding {parent_dir} to path\")\n",
    "    sys.path.insert(0, str(parent_dir))\n",
    "\n",
    "from agent import Agent\n",
    "from basic_agent.agent import Agent as BasicAgent"
   ]
  },
  {
   "cell_type": "code",
   "execution_count": 2,
   "id": "c279d560-1143-47ed-8da2-bedf79f83e07",
   "metadata": {},
   "outputs": [],
   "source": [
    "update_logging_level(logging.WARNING)\n",
    "seed = 42\n",
    "seed = 45342 + 1\n",
    "# seed = 178220973\n",
    "\n",
    "# Clear log file\n",
    "LOGFILE = \"logfile.log\"\n",
    "with open(LOGFILE, \"w\") as f:\n",
    "    pass\n",
    "\n",
    "# info_collector = CollectInfoFromEnv(player=my_player)\n",
    "# myenv = MyReplayEnv(seed, Agent, full_replay, log_file_path=LOGFILE, my_player=my_player, collector=info_collector)\n",
    "\n",
    "# myenv = MyEnv(seed, Agent, Agent)\n",
    "myenv = MyEnv(seed, Agent, BasicAgent)\n",
    "myenv.run_early_setup()"
   ]
  },
  {
   "cell_type": "code",
   "execution_count": 3,
   "id": "df0d8b6e-81bd-4e02-a407-214dcda34759",
   "metadata": {
    "tags": []
   },
   "outputs": [
    {
     "data": {
      "application/vnd.jupyter.widget-view+json": {
       "model_id": "e657104415464afc936bdc6341039260",
       "version_major": 2,
       "version_minor": 0
      },
      "text/plain": [
       "  0%|          | 0/100 [00:00<?, ?it/s]"
      ]
     },
     "metadata": {},
     "output_type": "display_data"
    }
   ],
   "source": [
    "import copy\n",
    "\n",
    "update_logging_level(logging.WARNING)\n",
    "# myenv = copy.deepcopy(backup)\n",
    "myenv.run_to_step(100)\n",
    "# myenv.run_to_step(129)\n",
    "# update_logging_level(logging.DEBUG)\n",
    "# myenv.run_to_step(133)\n",
    "backup = copy.deepcopy(myenv)"
   ]
  },
  {
   "cell_type": "code",
   "execution_count": null,
   "id": "03bac913-b55a-4b02-9d36-e0f9c98a545f",
   "metadata": {
    "tags": []
   },
   "outputs": [],
   "source": [
    "# myenv = copy.deepcopy(backup)\n",
    "\n",
    "update_logging_level(logging.DEBUG)\n",
    "myenv.step()\n",
    "myenv.show()"
   ]
  },
  {
   "cell_type": "code",
   "execution_count": 5,
   "id": "aa082a95-482f-4c5e-b0e5-32e2e8ab8c48",
   "metadata": {},
   "outputs": [
    {
     "ename": "RuntimeError",
     "evalue": "No active exception to reraise",
     "output_type": "error",
     "traceback": [
      "\u001b[1;31m---------------------------------------------------------------------------\u001b[0m",
      "\u001b[1;31mRuntimeError\u001b[0m                              Traceback (most recent call last)",
      "Cell \u001b[1;32mIn[5], line 1\u001b[0m\n\u001b[1;32m----> 1\u001b[0m \u001b[38;5;28;01mraise\u001b[39;00m\n",
      "\u001b[1;31mRuntimeError\u001b[0m: No active exception to reraise"
     ]
    }
   ],
   "source": [
    "raise"
   ]
  },
  {
   "cell_type": "code",
   "execution_count": null,
   "id": "f24491b4-f960-496b-afc2-a5d1f502b92c",
   "metadata": {},
   "outputs": [],
   "source": [
    "agent.master.step"
   ]
  },
  {
   "cell_type": "code",
   "execution_count": 8,
   "id": "532fc67d-00b8-4de3-9be0-82bddb6bdeb2",
   "metadata": {},
   "outputs": [
    {
     "name": "stderr",
     "output_type": "stream",
     "text": [
      "[autoreload of unit_action_planner failed: Traceback (most recent call last):\n",
      "  File \"C:\\Users\\Child\\.conda\\envs\\lux2022\\lib\\site-packages\\IPython\\extensions\\autoreload.py\", line 261, in check\n",
      "    superreload(m, reload, self.old_objects)\n",
      "  File \"C:\\Users\\Child\\.conda\\envs\\lux2022\\lib\\site-packages\\IPython\\extensions\\autoreload.py\", line 459, in superreload\n",
      "    module = reload(module)\n",
      "  File \"C:\\Users\\Child\\.conda\\envs\\lux2022\\lib\\importlib\\__init__.py\", line 169, in reload\n",
      "    _bootstrap._exec(spec, module)\n",
      "  File \"<frozen importlib._bootstrap>\", line 604, in _exec\n",
      "  File \"<frozen importlib._bootstrap_external>\", line 839, in exec_module\n",
      "  File \"<frozen importlib._bootstrap_external>\", line 976, in get_code\n",
      "  File \"<frozen importlib._bootstrap_external>\", line 906, in source_to_code\n",
      "  File \"<frozen importlib._bootstrap>\", line 219, in _call_with_frames_removed\n",
      "  File \"D:\\GitHub\\lux2022\\agent_v3_0\\unit_action_planner.py\", line 1025\n",
      "    factory_dist = util.manhattan(unit.start_of_turn_pos, unit.factory.pos) if unit.factory_id is\n",
      "                                                                                                 ^\n",
      "SyntaxError: invalid syntax\n",
      "]\n"
     ]
    },
    {
     "data": {
      "text/plain": [
       "(17, 26)"
      ]
     },
     "execution_count": 8,
     "metadata": {},
     "output_type": "execute_result"
    }
   ],
   "source": [
    "import util\n",
    "\n",
    "agent = myenv.agent\n",
    "unit = agent.master.units.friendly.all[\"unit_8\"]\n",
    "unit.status.planned_action_queue\n",
    "unit.start_of_turn_pos\n",
    "# util.show_map_array(agent.master.pathfinder.unit_paths.friendly_light[2])\n",
    "# agent.unit_action_planner._calculate_collisions()"
   ]
  },
  {
   "cell_type": "code",
   "execution_count": 10,
   "id": "0ef72252-74cd-43ff-bfdc-46465cb47ef8",
   "metadata": {},
   "outputs": [
    {
     "ename": "ValueError",
     "evalue": "LIGHT unit_8(spos(17, 26))(pos(17, 26)):(ActCategory.MINE:MineActSubCategory.ICE):\n\t\t\t has no factory",
     "output_type": "error",
     "traceback": [
      "\u001b[1;31m---------------------------------------------------------------------------\u001b[0m",
      "\u001b[1;31mValueError\u001b[0m                                Traceback (most recent call last)",
      "Cell \u001b[1;32mIn[10], line 1\u001b[0m\n\u001b[1;32m----> 1\u001b[0m \u001b[43munit\u001b[49m\u001b[38;5;241;43m.\u001b[39;49m\u001b[43mfactory\u001b[49m\n",
      "File \u001b[1;32mD:\\GitHub\\lux2022\\agent_v3_0\\unit_manager.py:365\u001b[0m, in \u001b[0;36mFriendlyUnitManager.factory\u001b[1;34m(self)\u001b[0m\n\u001b[0;32m    363\u001b[0m         \u001b[38;5;28;01mreturn\u001b[39;00m factory\n\u001b[0;32m    364\u001b[0m logger\u001b[38;5;241m.\u001b[39merror(\u001b[38;5;124mf\u001b[39m\u001b[38;5;124m\"\u001b[39m\u001b[38;5;132;01m{\u001b[39;00m\u001b[38;5;28mself\u001b[39m\u001b[38;5;241m.\u001b[39mlog_prefix\u001b[38;5;132;01m}\u001b[39;00m\u001b[38;5;124m: f_id=\u001b[39m\u001b[38;5;132;01m{\u001b[39;00m\u001b[38;5;28mself\u001b[39m\u001b[38;5;241m.\u001b[39mfactory_id\u001b[38;5;132;01m}\u001b[39;00m\u001b[38;5;124m not in factories\u001b[39m\u001b[38;5;124m\"\u001b[39m)\n\u001b[1;32m--> 365\u001b[0m \u001b[38;5;28;01mraise\u001b[39;00m \u001b[38;5;167;01mValueError\u001b[39;00m(\u001b[38;5;124mf\u001b[39m\u001b[38;5;124m\"\u001b[39m\u001b[38;5;132;01m{\u001b[39;00m\u001b[38;5;28mself\u001b[39m\u001b[38;5;241m.\u001b[39mlog_prefix\u001b[38;5;132;01m}\u001b[39;00m\u001b[38;5;124m has no factory\u001b[39m\u001b[38;5;124m\"\u001b[39m)\n",
      "\u001b[1;31mValueError\u001b[0m: LIGHT unit_8(spos(17, 26))(pos(17, 26)):(ActCategory.MINE:MineActSubCategory.ICE):\n\t\t\t has no factory"
     ]
    }
   ],
   "source": [
    "unit.factory"
   ]
  },
  {
   "cell_type": "code",
   "execution_count": null,
   "id": "39a6a4aa-5414-4acf-a16c-4233aa16a7e2",
   "metadata": {},
   "outputs": [],
   "source": [
    "agent.unit_action_planner.debug_ordered_df"
   ]
  },
  {
   "cell_type": "code",
   "execution_count": null,
   "id": "e4d9a80d-4257-4cd7-859e-6588cba6c2bd",
   "metadata": {},
   "outputs": [],
   "source": [
    "import actions_util\n",
    "\n",
    "actions_util.find_dest_step_from_step(\n",
    "    unit.status.planned_action_queue, 2, direction=\"backward\"\n",
    ")"
   ]
  },
  {
   "cell_type": "code",
   "execution_count": null,
   "id": "e9f521d8-f473-4e82-b604-fef8350665c8",
   "metadata": {},
   "outputs": [],
   "source": [
    "agent.unit_action_planner.ordered_units"
   ]
  },
  {
   "cell_type": "code",
   "execution_count": null,
   "id": "ed8d760b-b192-4680-8eae-d4ac355740e8",
   "metadata": {},
   "outputs": [],
   "source": [
    "# util.show_map_array(unit.action_handler.get_costmap())\n",
    "unit.action_queue\n",
    "# util.show_map_array(unit.action_handler.pathfinder.unit_paths.friendly_light[0])"
   ]
  },
  {
   "cell_type": "code",
   "execution_count": null,
   "id": "b35dbe51-e6d0-4b25-b6bf-12c768047e4d",
   "metadata": {},
   "outputs": [],
   "source": [
    "unit.status.current_action"
   ]
  },
  {
   "cell_type": "code",
   "execution_count": null,
   "id": "82a06ce9-481e-424f-8721-7342da807a7b",
   "metadata": {},
   "outputs": [],
   "source": [
    "agent.unit_action_planner.units_to_act.needs_to_act"
   ]
  },
  {
   "cell_type": "code",
   "execution_count": null,
   "id": "cdc61528-c415-4fe9-9af4-685da87efad6",
   "metadata": {},
   "outputs": [],
   "source": [
    "util.show_map_array(\n",
    "    util.generate_circle_coordinates_array((10, 10), N=8\n",
    "                                           \", radius=2, max_coord=48)\n",
    ")"
   ]
  },
  {
   "cell_type": "code",
   "execution_count": null,
   "id": "c7e7d371-2463-4ad7-85db-2be31fa16654",
   "metadata": {},
   "outputs": [],
   "source": [
    "util.show_map_array(agent.unit_action_planner.base_costmap)"
   ]
  },
  {
   "cell_type": "code",
   "execution_count": null,
   "id": "434ceb5f-dd92-42b6-a5cb-4ee592ec5688",
   "metadata": {},
   "outputs": [],
   "source": [
    "paths = agent.master.pathfinder.unit_paths"
   ]
  },
  {
   "cell_type": "code",
   "execution_count": null,
   "id": "1249780b-2196-402d-89a0-2dc8dd6b2dce",
   "metadata": {},
   "outputs": [],
   "source": [
    "\n",
    "    agent.master.factories.friendly[\"factory_0\"]._generate_waiting_area().show\n",
    "\n",
    "# arr = paths.get_unit_nums_near((22, 25), 0, 5, True, True, True, True)"
   ]
  },
  {
   "cell_type": "code",
   "execution_count": null,
   "id": "fee7ee36-841f-4607-b806-1b5084def19f",
   "metadata": {},
   "outputs": [],
   "source": [
    "env_step = myenv.env_step\n",
    "pobs = myenv.obs[\"player_0\"]\n",
    "# agent.act(env_step, pobs)"
   ]
  },
  {
   "cell_type": "code",
   "execution_count": null,
   "id": "d07dcb16-949d-4204-a08c-f5accd2eaa3b",
   "metadata": {},
   "outputs": [],
   "source": [
    "agent.unit_action_planner.debug_actions_returned"
   ]
  },
  {
   "cell_type": "code",
   "execution_count": null,
   "id": "68bad428-ceff-4c3e-a872-68177cab473d",
   "metadata": {},
   "outputs": [],
   "source": [
    "import util\n",
    "\n",
    "unit = agent.master.units.friendly.all[\"unit_6\"]\n",
    "factory = unit.factory\n",
    "print(unit.pos)\n",
    "print(unit.action_queue)\n",
    "fig = util.show_map_array(\n",
    "    agent.master.pathfinder.generate_costmap(unit, override_step=2)\n",
    ")\n",
    "util.plotly_plot_path(fig, unit.current_path()).show()"
   ]
  },
  {
   "cell_type": "code",
   "execution_count": null,
   "id": "81bb4c2c-3205-441d-ae5d-056d1bb88d11",
   "metadata": {},
   "outputs": [],
   "source": [
    "# util.pad_and_crop(util.manhattan_kernel(47), agent.master.maps.map_shape, 5, 20)\n",
    "print(factory.pos)\n",
    "# util.show_map_array(factory.dist_array).show()\n",
    "que = factory.queue_array\n",
    "cm = agent.master.pathfinder.generate_costmap(unit)\n",
    "path = util.calc_path_to_available_nearest_pos(\n",
    "    agent.master.pathfinder,\n",
    "    costmap=cm,\n",
    "    from_pos=unit.pos,\n",
    "    target_array=que,\n",
    "    near_pos=factory.pos,\n",
    "    max_attempts=50,\n",
    ")\n",
    "fig = util.show_map_array(cm)\n",
    "util.plotly_plot_path(fig, path)\n",
    "util.show_map_array(que).show()\n",
    "fig.show()"
   ]
  },
  {
   "cell_type": "code",
   "execution_count": null,
   "id": "4619cadb-0a46-444b-84e9-f9e8be1afe61",
   "metadata": {},
   "outputs": [],
   "source": [
    "agent.unit_action_planner.debug_actions_returned\n",
    "print(\n",
    "    \"\\n\".join(\n",
    "        str(agent.factory_action_planner.get_factory_infos()[\"factory_0\"]).split(\",\")\n",
    "    )\n",
    ")"
   ]
  },
  {
   "cell_type": "code",
   "execution_count": null,
   "id": "6ae4e4c6-fc2e-4752-b9d2-f027f47ac177",
   "metadata": {},
   "outputs": [],
   "source": [
    "agent.factory_action_planner.get_factory_desires()"
   ]
  },
  {
   "cell_type": "code",
   "execution_count": null,
   "id": "c7fd1329-390f-4e0a-9ed9-98275a660519",
   "metadata": {},
   "outputs": [],
   "source": [
    "raise"
   ]
  },
  {
   "cell_type": "code",
   "execution_count": null,
   "id": "89e197a8-da1e-4d61-aa40-0971e16ec2b0",
   "metadata": {},
   "outputs": [],
   "source": [
    "import numpy as np\n",
    "\n",
    "# create three 2D arrays of random values\n",
    "a = np.random.rand(3, 3)\n",
    "b = np.random.rand(3, 3)\n",
    "c = np.random.rand(3, 3)\n",
    "\n",
    "# set values in b equal to values in a where c is greater than 0.5\n",
    "b[c > 0.5] = a[c > 0.5]"
   ]
  },
  {
   "cell_type": "code",
   "execution_count": null,
   "id": "87c5b7d7-b717-4e04-9a00-57537b1f66e1",
   "metadata": {},
   "outputs": [],
   "source": []
  },
  {
   "cell_type": "code",
   "execution_count": null,
   "id": "2977beba-669e-4bc2-bc61-f01a6aa3a1b5",
   "metadata": {},
   "outputs": [],
   "source": [
    "update_logging_level(logging.INFO)\n",
    "myenv.step()\n",
    "myenv.show()"
   ]
  },
  {
   "cell_type": "code",
   "execution_count": null,
   "id": "3e53fc06-e545-42f2-9e0b-043b9d6356d5",
   "metadata": {},
   "outputs": [],
   "source": [
    "import numpy as np\n",
    "from typing import List, Tuple\n",
    "\n",
    "\n",
    "def non_zero_coordinates(arr: np.ndarray) -> List[Tuple[int, int]]:\n",
    "    non_zero_indices = np.nonzero(arr)\n",
    "    coordinates = list(zip(non_zero_indices[0], non_zero_indices[1]))\n",
    "    return coordinates\n",
    "\n",
    "\n",
    "# Example usage:\n",
    "arr = np.array([[0, 0, 1], [0, 2, 0], [0, 2, 0]])\n",
    "\n",
    "print(non_zero_coordinates(arr))"
   ]
  },
  {
   "cell_type": "code",
   "execution_count": null,
   "id": "88f3577e-7bb2-42b4-9373-ff73ab3c4992",
   "metadata": {},
   "outputs": [],
   "source": [
    "%%timeit\n",
    "non_zero_coordinates(arr)"
   ]
  },
  {
   "cell_type": "code",
   "execution_count": null,
   "id": "7970a8ac-b73a-4dfa-8c46-e4cb58a3411a",
   "metadata": {},
   "outputs": [],
   "source": [
    "util.show_map_array(arr)"
   ]
  },
  {
   "cell_type": "code",
   "execution_count": null,
   "id": "2c716a2f-9f22-4bf8-ae7e-c301df42da23",
   "metadata": {},
   "outputs": [],
   "source": [
    "import numpy as np\n",
    "from typing import List, Tuple\n",
    "\n",
    "\n",
    "def find_nonzero_coords(arr: np.ndarray) -> List[Tuple[int, int]]:\n",
    "    nonzero_coords = np.transpose(np.nonzero(arr))\n",
    "    return [(x, y) for x, y in nonzero_coords]"
   ]
  },
  {
   "cell_type": "code",
   "execution_count": null,
   "id": "a10dc17f-7685-4108-a154-5fa1a210a2ef",
   "metadata": {},
   "outputs": [],
   "source": [
    "%%timeit\n",
    "find_nonzero_coords(arr)"
   ]
  },
  {
   "cell_type": "code",
   "execution_count": null,
   "id": "076fc09c-6657-4651-8649-2f306ba0ca6c",
   "metadata": {},
   "outputs": [],
   "source": [
    "%%timeit\n",
    "list(reversed(sorted([3, 1, 3, 5, 5])))"
   ]
  },
  {
   "cell_type": "code",
   "execution_count": null,
   "id": "b8b73dbe-cd46-4250-af7d-cea157c0469d",
   "metadata": {},
   "outputs": [],
   "source": [
    "np.array([1, 2, 3, 4, 5])[:-4]"
   ]
  },
  {
   "cell_type": "code",
   "execution_count": null,
   "id": "ef5a4db6-e4dd-4fb2-ad96-569d48ad618f",
   "metadata": {},
   "outputs": [],
   "source": []
  },
  {
   "cell_type": "code",
   "execution_count": null,
   "id": "f96b35b2-2ac1-47fa-8607-dad9e617c859",
   "metadata": {},
   "outputs": [],
   "source": []
  },
  {
   "cell_type": "code",
   "execution_count": null,
   "id": "9e0bb796-3419-4dbd-b809-f9b07b99ee16",
   "metadata": {},
   "outputs": [],
   "source": [
    "import enum\n",
    "\n",
    "\n",
    "class Color(enum.Enum):\n",
    "    RED = 1\n",
    "    GREEN = 2\n",
    "    BLUE = 3\n",
    "\n",
    "\n",
    "color1 = Color.RED\n",
    "color2 = Color.RED\n",
    "\n",
    "if color1 == color2:\n",
    "    print(\"Equal!\")\n",
    "else:\n",
    "    print(\"Not equal!\")"
   ]
  },
  {
   "cell_type": "code",
   "execution_count": null,
   "id": "912c803c-e421-4b4d-a01d-e1a1f82ba9cc",
   "metadata": {},
   "outputs": [],
   "source": [
    "import numpy as np\n",
    "import util\n",
    "\n",
    "# create a 2D numpy array\n",
    "arr = np.array([[1, 2, 3], [4, 5, 12], [7, 8, 9]])\n",
    "\n",
    "# get the index of the maximum value\n",
    "max_index = np.argmax(arr)\n",
    "\n",
    "# convert the index into 2D coordinates\n",
    "max_coords = np.unravel_index(max_index, arr.shape)\n",
    "\n",
    "print(max_coords)  # output: (2, 2)\n",
    "util.show_map_array(arr)"
   ]
  },
  {
   "cell_type": "code",
   "execution_count": null,
   "id": "f283a705-36da-4ffe-81be-c8f4127b21a1",
   "metadata": {},
   "outputs": [],
   "source": [
    "import util\n",
    "\n",
    "print(round(0.4 * 2))\n",
    "util.show_map_array(util.generate_circle_coordinates_array((22, 26), N=2, radius=10))"
   ]
  },
  {
   "cell_type": "code",
   "execution_count": null,
   "id": "beda9cca-7ad7-46e9-8067-4b094ca3467e",
   "metadata": {},
   "outputs": [],
   "source": [
    "[][:-1]"
   ]
  }
 ],
 "metadata": {
  "kernelspec": {
   "display_name": "Python 3 (ipykernel)",
   "language": "python",
   "name": "python3"
  },
  "language_info": {
   "codemirror_mode": {
    "name": "ipython",
    "version": 3
   },
   "file_extension": ".py",
   "mimetype": "text/x-python",
   "name": "python",
   "nbconvert_exporter": "python",
   "pygments_lexer": "ipython3",
   "version": "3.8.15"
  }
 },
 "nbformat": 4,
 "nbformat_minor": 5
}
