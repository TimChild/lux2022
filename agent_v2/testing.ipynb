{
 "cells": [
  {
   "cell_type": "code",
   "execution_count": 1,
   "id": "26478b7a-352c-4096-8561-b93160e587c5",
   "metadata": {},
   "outputs": [],
   "source": [
    "import util\n",
    "from agent_v2 import Agent\n",
    "from mining_planner import MiningPlanner, MiningRecommendation, MiningRoutes"
   ]
  },
  {
   "cell_type": "code",
   "execution_count": 2,
   "id": "efec5921-6b74-42d4-900c-5a37e793df07",
   "metadata": {},
   "outputs": [
    {
     "data": {
      "text/plain": "<luxai2022.env.LuxAI2022 at 0x2c09a7992e0>"
     },
     "execution_count": 2,
     "metadata": {},
     "output_type": "execute_result"
    }
   ],
   "source": [
    "test_env = util.get_test_env()\n",
    "test_env"
   ]
  },
  {
   "cell_type": "code",
   "execution_count": 3,
   "id": "2b9e5e58-76be-4be8-9eb5-25c69b4a274e",
   "metadata": {},
   "outputs": [
    {
     "data": {
      "text/plain": "<agent_v2.Agent at 0x2c0b4431040>"
     },
     "execution_count": 3,
     "metadata": {},
     "output_type": "execute_result"
    }
   ],
   "source": [
    "agent = Agent('player_0', test_env.env_cfg)\n",
    "agent"
   ]
  },
  {
   "cell_type": "code",
   "execution_count": 4,
   "id": "573e24b5-7861-46c0-8294-97996c1a5a29",
   "metadata": {},
   "outputs": [
    {
     "name": "stdout",
     "output_type": "stream",
     "text": [
      "CPU times: total: 0 ns\n",
      "Wall time: 3 ms\n"
     ]
    }
   ],
   "source": [
    "%%time\n",
    "agent.update_step_info(test_env.state.env_steps, test_env.state.get_obs(), 60)"
   ]
  },
  {
   "cell_type": "code",
   "execution_count": 5,
   "id": "1033a090-aaf5-42f5-b0cf-579801dc5d71",
   "metadata": {},
   "outputs": [
    {
     "ename": "AttributeError",
     "evalue": "'Agent' object has no attribute 'master_plan_'",
     "output_type": "error",
     "traceback": [
      "\u001B[1;31m---------------------------------------------------------------------------\u001B[0m",
      "\u001B[1;31mAttributeError\u001B[0m                            Traceback (most recent call last)",
      "File \u001B[1;32m<timed exec>:1\u001B[0m\n",
      "\u001B[1;31mAttributeError\u001B[0m: 'Agent' object has no attribute 'master_plan_'"
     ]
    }
   ],
   "source": [
    "%%time\n",
    "mining_planner = MiningPlanner(agent.master_plan_)"
   ]
  },
  {
   "cell_type": "code",
   "execution_count": 6,
   "id": "b10abe66-0bd5-4f31-adec-ec0bd347fe01",
   "metadata": {},
   "outputs": [
    {
     "ename": "NameError",
     "evalue": "name 'mining_planner' is not defined",
     "output_type": "error",
     "traceback": [
      "\u001B[1;31m---------------------------------------------------------------------------\u001B[0m",
      "\u001B[1;31mNameError\u001B[0m                                 Traceback (most recent call last)",
      "File \u001B[1;32m<timed exec>:1\u001B[0m\n",
      "\u001B[1;31mNameError\u001B[0m: name 'mining_planner' is not defined"
     ]
    }
   ],
   "source": [
    "%%time\n",
    "routes = mining_planner._generate_routes()"
   ]
  },
  {
   "cell_type": "code",
   "execution_count": 7,
   "id": "fcf4eebe-c466-40eb-81b7-8dab9569ebe4",
   "metadata": {},
   "outputs": [],
   "source": [
    "# pathfinder = mining_planner.master_plan.pathfinder\n",
    "from pathfinding.core.grid import Grid\n",
    "from pathfinding.finder.a_star import AStarFinder"
   ]
  },
  {
   "cell_type": "code",
   "execution_count": 8,
   "id": "33350052-cfde-4e10-95ec-12bb04789dcd",
   "metadata": {},
   "outputs": [],
   "source": [
    "start_coord = [10, 11]\n",
    "end_coord = [14, 15]\n",
    "map_cost = test_env.state.board.rubble + 10"
   ]
  },
  {
   "cell_type": "code",
   "execution_count": 9,
   "id": "fe067d92-923f-4a08-8fde-6ac46a05e86f",
   "metadata": {},
   "outputs": [
    {
     "name": "stdout",
     "output_type": "stream",
     "text": [
      "CPU times: total: 15.6 ms\n",
      "Wall time: 7.99 ms\n"
     ]
    }
   ],
   "source": [
    "%%time\n",
    "grid = Grid(matrix=map_cost)\n",
    "start = grid.node(*start_coord)\n",
    "end = grid.node(*end_coord)"
   ]
  },
  {
   "cell_type": "code",
   "execution_count": 10,
   "id": "5da2a918-0a4c-4c6c-aee2-3a6cffb2e4a0",
   "metadata": {},
   "outputs": [
    {
     "name": "stdout",
     "output_type": "stream",
     "text": [
      "CPU times: total: 0 ns\n",
      "Wall time: 0 ns\n"
     ]
    }
   ],
   "source": [
    "%%time\n",
    "pathfinder = AStarFinder(diagonal_movement=-1)"
   ]
  },
  {
   "cell_type": "code",
   "execution_count": 11,
   "id": "205602ee-7b4a-44b1-af5f-810bae49c8b0",
   "metadata": {},
   "outputs": [
    {
     "name": "stdout",
     "output_type": "stream",
     "text": [
      "CPU times: total: 15.6 ms\n",
      "Wall time: 2.99 ms\n"
     ]
    }
   ],
   "source": [
    "%%time\n",
    "path1, runs = pathfinder.find_path(start, end, grid)"
   ]
  },
  {
   "cell_type": "code",
   "execution_count": 18,
   "id": "6215727b-531d-4a2d-b3fa-4d6c72852fa7",
   "metadata": {},
   "outputs": [
    {
     "data": {
      "text/plain": [
       "True"
      ]
     },
     "execution_count": 18,
     "metadata": {},
     "output_type": "execute_result"
    }
   ],
   "source": [
    "path4 == path1"
   ]
  },
  {
   "cell_type": "code",
   "execution_count": 13,
   "id": "dd01ea95-f144-418f-b3b3-c0a9bc8c51ea",
   "metadata": {},
   "outputs": [
    {
     "name": "stdout",
     "output_type": "stream",
     "text": [
      "Paths equal False <<<< i.e. cannot reuse pathfinder more than once without grid.\n"
     ]
    }
   ],
   "source": [
    "print(f'Paths equal {path1 == path2} <<<< i.e. cannot reuse pathfinder more than once without grid.')"
   ]
  },
  {
   "cell_type": "code",
   "execution_count": 14,
   "id": "1cb3f404-9203-49bc-8d9c-d280b83790b0",
   "metadata": {},
   "outputs": [
    {
     "name": "stdout",
     "output_type": "stream",
     "text": [
      "CPU times: total: 15.6 ms\n",
      "Wall time: 4 ms\n"
     ]
    }
   ],
   "source": [
    "%%time\n",
    "grid.cleanup()\n",
    "path3, runs = pathfinder.find_path(start, end, grid)"
   ]
  },
  {
   "cell_type": "code",
   "execution_count": 15,
   "id": "e9e837b7-abf1-4f55-957b-83881fc0879f",
   "metadata": {},
   "outputs": [
    {
     "name": "stdout",
     "output_type": "stream",
     "text": [
      "Paths equal True\n"
     ]
    }
   ],
   "source": [
    "print(f'Paths equal {path1 == path3}')"
   ]
  },
  {
   "cell_type": "markdown",
   "id": "6bf691c9-e6ac-492e-b1ae-5f60a0224dae",
   "metadata": {},
   "source": [
    "## Speed up pathfinding\n",
    "Search smaller area\n",
    "\n",
    "First by setting -1 everywhere outside of small area (that would keep dims the same etc)"
   ]
  },
  {
   "cell_type": "code",
   "execution_count": 28,
   "id": "c376f63b-6237-40e6-9976-dddac495dd24",
   "metadata": {},
   "outputs": [],
   "source": [
    "import numpy as np\n",
    "# start_coord = [10, 10]\n",
    "# end_coord = [17, 17]\n",
    "# map_cost = test_env.state.board.rubble + 10\n",
    "\n",
    "coords = np.array([start_coord, end_coord])\n",
    "coords\n",
    "\n",
    "x_bounds = np.min(coords[:,0]), np.max(coords[:,0])\n",
    "y_bounds = np.min(coords[:,1]), np.max(coords[:,1])\n",
    "x_bounds, y_bounds\n",
    "\n",
    "new_cost = map_cost.copy()\n",
    "mask = np.ones(map_cost.shape, dtype=int)\n",
    "mask[y_bounds[0]:y_bounds[1]+1, x_bounds[0]: x_bounds[1]+1] = 0\n",
    "new_cost[mask == 1] = -1\n",
    "\n",
    "grid = Grid(matrix=new_cost)\n",
    "start = grid.node(*start_coord)\n",
    "end = grid.node(*end_coord)\n",
    "\n",
    "pathfinder = AStarFinder(diagonal_movement=-1)"
   ]
  },
  {
   "cell_type": "code",
   "execution_count": 30,
   "id": "c603ce9c-e1a2-40ee-af9c-ea895a147011",
   "metadata": {},
   "outputs": [
    {
     "name": "stdout",
     "output_type": "stream",
     "text": [
      "CPU times: total: 0 ns\n",
      "Wall time: 0 ns\n"
     ]
    },
    {
     "data": {
      "text/plain": [
       "[]"
      ]
     },
     "execution_count": 30,
     "metadata": {},
     "output_type": "execute_result"
    }
   ],
   "source": [
    "%%time\n",
    "path4, runs = pathfinder.find_path(start, end, grid)\n",
    "path4"
   ]
  },
  {
   "cell_type": "code",
   "execution_count": 18,
   "id": "4615a3c8",
   "metadata": {},
   "outputs": [
    {
     "data": {
      "text/plain": [
       "True"
      ]
     },
     "execution_count": 18,
     "metadata": {},
     "output_type": "execute_result"
    }
   ],
   "source": [
    "path4 == path1"
   ]
  },
  {
   "cell_type": "markdown",
   "id": "af187025-4951-4167-bb39-d3ca99617a8d",
   "metadata": {},
   "source": [
    "Turn it into a function and also include a bit of a buffer around coords"
   ]
  },
  {
   "cell_type": "code",
   "execution_count": 19,
   "id": "ffa5c398-d412-4097-b2dc-de7a5166c34a",
   "metadata": {},
   "outputs": [],
   "source": [
    "arr = np.arange(9).reshape(-1, 3)"
   ]
  },
  {
   "cell_type": "code",
   "execution_count": 31,
   "id": "67ebe6fb-3eea-4dc1-95ef-33d210661ea9",
   "metadata": {},
   "outputs": [
    {
     "name": "stdout",
     "output_type": "stream",
     "text": [
      "CPU times: total: 0 ns\n",
      "Wall time: 1 ms\n"
     ]
    },
    {
     "data": {
      "text/plain": [
       "array([[1, 1]])"
      ]
     },
     "execution_count": 31,
     "metadata": {},
     "output_type": "execute_result"
    }
   ],
   "source": [
    "%%time\n",
    "start_coord = [1, 1]\n",
    "end_coord = [1, 1]\n",
    "\n",
    "def find_path(start_coords, end_coords, cost_map, margin=2):\n",
    "    coords = np.array([start_coord, end_coord])\n",
    "\n",
    "    # x, y\n",
    "    mins = np.min(coords, axis=0) \n",
    "    maxs = np.max(coords, axis=0)\n",
    "\n",
    "    # x, y\n",
    "    lowers = [max(0, v-margin) for v in mins]\n",
    "    uppers = [min(s-1, v+margin)+1 for s, v in zip(reversed(cost_map.shape), maxs)]  # +1 for range\n",
    "\n",
    "    x_range, y_range = [(lowers[i], uppers[i]) for i in range(2)]\n",
    "\n",
    "    # y, x\n",
    "    new_cost = cost_map[range(*y_range), :][:, range(*x_range)]\n",
    "\n",
    "    grid = Grid(matrix=new_cost)\n",
    "    start = grid.node(*[c-l for c, l in zip(start_coord, lowers)])\n",
    "    end = grid.node(*[c-l for c, l in zip(end_coord, lowers)])\n",
    "\n",
    "    pathfinder = AStarFinder(diagonal_movement=-1)\n",
    "    path, runs = pathfinder.find_path(start, end, grid)\n",
    "    path = np.array(path)+np.array(lowers)\n",
    "    return path\n",
    "    \n",
    "path = find_path(start_coord, end_coord, map_cost, margin=1)\n",
    "path"
   ]
  },
  {
   "cell_type": "code",
   "execution_count": 21,
   "id": "50eb5e0f-e54d-40e4-afe9-bbe152468a9a",
   "metadata": {},
   "outputs": [
    {
     "data": {
      "text/plain": [
       "array([[1, 1],\n",
       "       [1, 2],\n",
       "       [1, 3],\n",
       "       [2, 3],\n",
       "       [3, 3],\n",
       "       [4, 3],\n",
       "       [4, 4],\n",
       "       [5, 4],\n",
       "       [5, 5]])"
      ]
     },
     "execution_count": 21,
     "metadata": {},
     "output_type": "execute_result"
    }
   ],
   "source": [
    "path"
   ]
  },
  {
   "cell_type": "code",
   "execution_count": 22,
   "id": "d7347061-dc42-4b02-bb92-54458667a575",
   "metadata": {},
   "outputs": [
    {
     "data": {
      "text/plain": [
       "array([1, 2, 3])"
      ]
     },
     "execution_count": 22,
     "metadata": {},
     "output_type": "execute_result"
    }
   ],
   "source": [
    "arr = np.array([1,2,3])\n",
    "arr[:3]"
   ]
  },
  {
   "cell_type": "code",
   "execution_count": 51,
   "id": "07868d33-0c7d-45a7-b7aa-94efc0a38210",
   "metadata": {},
   "outputs": [
    {
     "data": {
      "text/plain": [
       "([23, 37], array([25, 34], dtype=int64))"
      ]
     },
     "execution_count": 51,
     "metadata": {},
     "output_type": "execute_result"
    }
   ],
   "source": [
    "test_env.state.factories['player_0']['factory_0'].pos.pos, test_env.state.units['player_0']['unit_4'].pos.pos"
   ]
  },
  {
   "cell_type": "code",
   "execution_count": 58,
   "id": "06ec8952-64b0-409b-893f-c73b0dbafcb0",
   "metadata": {},
   "outputs": [
    {
     "ename": "KeyError",
     "evalue": "'b'",
     "output_type": "error",
     "traceback": [
      "\u001B[1;31m---------------------------------------------------------------------------\u001B[0m",
      "\u001B[1;31mKeyError\u001B[0m                                  Traceback (most recent call last)",
      "Cell \u001B[1;32mIn[58], line 2\u001B[0m\n\u001B[0;32m      1\u001B[0m d \u001B[38;5;241m=\u001B[39m {\u001B[38;5;124m'\u001B[39m\u001B[38;5;124ma\u001B[39m\u001B[38;5;124m'\u001B[39m: \u001B[38;5;241m1\u001B[39m}\n\u001B[1;32m----> 2\u001B[0m \u001B[43md\u001B[49m\u001B[38;5;241;43m.\u001B[39;49m\u001B[43mpop\u001B[49m\u001B[43m(\u001B[49m\u001B[38;5;124;43m'\u001B[39;49m\u001B[38;5;124;43mb\u001B[39;49m\u001B[38;5;124;43m'\u001B[39;49m\u001B[43m)\u001B[49m\n",
      "\u001B[1;31mKeyError\u001B[0m: 'b'"
     ]
    }
   ],
   "source": [
    "d = {'a': 1}\n",
    "d.pop('b')"
   ]
  }
 ],
 "metadata": {
  "kernelspec": {
   "display_name": "Python 3 (ipykernel)",
   "language": "python",
   "name": "python3"
  },
  "language_info": {
   "codemirror_mode": {
    "name": "ipython",
    "version": 3
   },
   "file_extension": ".py",
   "mimetype": "text/x-python",
   "name": "python",
   "nbconvert_exporter": "python",
   "pygments_lexer": "ipython3",
   "version": "3.8.15"
  }
 },
 "nbformat": 4,
 "nbformat_minor": 5
}
