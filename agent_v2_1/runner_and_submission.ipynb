{
 "cells": [
  {
   "cell_type": "code",
   "execution_count": 3,
   "id": "5d94888a-eb71-4c92-ac01-ef6ba6a9aab0",
   "metadata": {},
   "outputs": [],
   "source": [
    "%load_ext lab_black\n",
    "%load_ext autoreload\n",
    "%autoreload 2"
   ]
  },
  {
   "cell_type": "markdown",
   "id": "906221b7-c5e2-4da6-907a-2fadbe13a79f",
   "metadata": {},
   "source": [
    "# Run Agent against itself"
   ]
  },
  {
   "cell_type": "code",
   "execution_count": 4,
   "id": "30934b41-3994-40e2-8951-4bd8ec6851ea",
   "metadata": {
    "tags": []
   },
   "outputs": [],
   "source": [
    "import sys\n",
    "import os\n",
    "from pathlib import Path\n",
    "import logging\n",
    "from config import update_logging_level\n",
    "\n",
    "\n",
    "def get_next_filename(folder_path, base_filename, extension):\n",
    "    \"\"\"Returns the next unique filename with an incrementing number.\"\"\"\n",
    "    if not os.path.exists(folder_path):\n",
    "        os.makedirs(folder_path)\n",
    "\n",
    "    i = 1\n",
    "    while True:\n",
    "        filename = f\"{base_filename}_{i}.{extension}\"\n",
    "        file_path = os.path.join(folder_path, filename)\n",
    "        if not os.path.exists(file_path):\n",
    "            return file_path\n",
    "        i += 1"
   ]
  },
  {
   "cell_type": "code",
   "execution_count": 5,
   "id": "922aaa08-5e50-4047-9a07-4888d7b83649",
   "metadata": {},
   "outputs": [],
   "source": [
    "# !luxai-s2 -h"
   ]
  },
  {
   "cell_type": "code",
   "execution_count": null,
   "id": "c894c9f4-02a2-4e5e-bd64-936db9581adf",
   "metadata": {
    "tags": []
   },
   "outputs": [
    {
     "name": "stdout",
     "output_type": "stream",
     "text": [
      "D:\\GitHub\\lux2022\n"
     ]
    }
   ],
   "source": [
    "%cd D:/GitHub/lux2022\n",
    "next_html_filename = get_next_filename(\n",
    "    \"agent_v2_1/local_replay_htmls\", \"replay\", \"html\"\n",
    ")\n",
    "next_json_filename = get_next_filename(\n",
    "    \"agent_v2_1/local_replay_jsons\", \"replay\", \"json\"\n",
    ")\n",
    "\n",
    "!luxai-s2 agent_v2_1/main.py agent_v2_1/main.py -v 2 -s 123425 -l 1000 -o {next_html_filename}\n",
    "print(f\"Done making HTML, moving onto JSON\")\n",
    "!luxai-s2 agent_v2_1/main.py agent_v2_1/main.py -v 2 -s 123425 -l 1000 --replay.save_format 'json' -o {next_json_filename}"
   ]
  },
  {
   "cell_type": "code",
   "execution_count": 7,
   "id": "e44613d3-df99-45db-8dd4-c9cda45cdddb",
   "metadata": {},
   "outputs": [
    {
     "data": {
      "text/plain": [
       "array([[3, 0, 0, 0, 0, 0],\n",
       "       [0, 2, 0, 0, 0, 1],\n",
       "       [0, 3, 0, 0, 0, 2]])"
      ]
     },
     "execution_count": 7,
     "metadata": {},
     "output_type": "execute_result"
    }
   ],
   "source": [
    "import numpy as np\n",
    "np.array([[3, 0, 0, 0, 0, 0], [0, 2, 0, 0, 0, 1], [0, 3, 0, 0, 0, 2]])"
   ]
  },
  {
   "cell_type": "code",
   "execution_count": 14,
   "id": "afb6e3c9-c723-452f-84c1-bfb29e8901aa",
   "metadata": {},
   "outputs": [
    {
     "data": {
      "text/plain": [
       "2"
      ]
     },
     "execution_count": 14,
     "metadata": {},
     "output_type": "execute_result"
    }
   ],
   "source": [
    "import numpy as np\n",
    "\n",
    "p = np.array([[]])\n",
    "p.ndim"
   ]
  },
  {
   "cell_type": "code",
   "execution_count": null,
   "id": "07621d6a-e430-489a-afa1-09b5c383f1fd",
   "metadata": {
    "tags": []
   },
   "outputs": [],
   "source": [
    "# # !luxai-s2 main.py main.py -v 2 -s 178220973 -o replay.html\n",
    "# !luxai-s2 main.py main.py -v 2 -s 42 -o replay.html"
   ]
  },
  {
   "cell_type": "markdown",
   "id": "8fda916c-9e10-4e96-908f-d9f5054538f6",
   "metadata": {},
   "source": [
    "## Just double click replay.html to open window in jupyter lab\n",
    "This is just a note for above. The replays work well in tabs"
   ]
  },
  {
   "cell_type": "code",
   "execution_count": 4,
   "id": "5ca2329f-8239-4f2a-b5ea-0e2cbda2a641",
   "metadata": {},
   "outputs": [],
   "source": [
    "# import IPython\n",
    "# IPython.display.HTML(filename='replay.html')\n",
    "## This doesn't seem to show anything, don't know why."
   ]
  },
  {
   "cell_type": "code",
   "execution_count": 5,
   "id": "aa2ce5e7-e724-4775-b85e-9c35d3efc577",
   "metadata": {},
   "outputs": [
    {
     "ename": "RuntimeError",
     "evalue": "No active exception to reraise",
     "output_type": "error",
     "traceback": [
      "\u001b[1;31m---------------------------------------------------\u001b[0m",
      "\u001b[1;31mRuntimeError\u001b[0m      Traceback (most recent call last)",
      "Cell \u001b[1;32mIn[5], line 1\u001b[0m\n\u001b[1;32m----> 1\u001b[0m \u001b[38;5;28;01mraise\u001b[39;00m\n",
      "\u001b[1;31mRuntimeError\u001b[0m: No active exception to reraise"
     ]
    }
   ],
   "source": [
    "raise"
   ]
  },
  {
   "cell_type": "code",
   "execution_count": null,
   "id": "7cf1e3d9-68a7-4c84-ab82-ff605abba877",
   "metadata": {},
   "outputs": [],
   "source": [
    "!tar --exclude=\"*.tar.gz\" --exclude=\"*.html\" --exclude=\"*.ipynb\" --exclude=\"*.json\" --exclude=\"__pycache__\" --exclude=\"_videos\" --exclude=\"*.webm\" --exclude=\"extracted_tar\" --exclude=\".ipynb_checkpoints\" -cvzf submission.tar.gz *"
   ]
  },
  {
   "cell_type": "code",
   "execution_count": null,
   "id": "72b3b092-a1de-4bf2-9d64-df36fd18d247",
   "metadata": {},
   "outputs": [],
   "source": [
    "!rm -r extracted_tar\n",
    "!mkdir extracted_tar\n",
    "!tar -xvf submission.tar.gz -C extracted_tar"
   ]
  },
  {
   "cell_type": "code",
   "execution_count": null,
   "id": "5a5e4e19-527c-4a02-87e8-252fa5bdc86c",
   "metadata": {},
   "outputs": [],
   "source": [
    "print('\"Traceback (most recent call last):\\n  File \\\"/opt/conda/lib/python3.7/site-packages/kaggle_environments/agent.py\\\", line 50, in get_last_callable\\n    exec(code_object, env)\\n  File \\\"/kaggle_simulations/agent/main.py\\\", line 6, in <module>\\n    from agent import Agent\\n  File \\\"/kaggle_simulations/agent/agent.py\\\", line 18, in <module>\\n    from unit_manager import UnitManager\\n  File \\\"/kaggle_simulations/agent/unit_manager.py\\\", line 7, in <module>\\n    from luxai2022.unit import UnitType\\nModuleNotFoundError: No module named \"luxai2022\"\\n\\nDuring handling of the above exception, another exception occurred:\\n\\nTraceback (most recent call last):\\n  File \\\"/opt/conda/lib/python3.7/site-packages/kaggle_environments/agent.py\\\", line 159, in act\\n    action = self.agent(*args)\\n  File \\\"/opt/conda/lib/python3.7/site-packages/kaggle_environments/agent.py\\\", line 125, in callable_agent\\n    agent = get_last_callable(raw_agent, path=raw) or raw_agent\\n  File \\\"/opt/conda/lib/python3.7/site-packages/kaggle_environments/agent.py\\\", line 64, in get\"')"
   ]
  },
  {
   "cell_type": "code",
   "execution_count": null,
   "id": "c7ff49a3-e75d-489b-8758-c2d302de4acd",
   "metadata": {},
   "outputs": [],
   "source": [
    "import json\n",
    "from pprint import pprint\n",
    "with open(\"zlog.json\", 'r') as f:\n",
    "    j = json.load(f)\n",
    "# print(j[0][0]['stderr'])\n",
    "pprint(j)\n"
   ]
  },
  {
   "cell_type": "code",
   "execution_count": null,
   "id": "3dcfe303-ec03-447f-a658-de2d57047f34",
   "metadata": {},
   "outputs": [],
   "source": []
  }
 ],
 "metadata": {
  "kernelspec": {
   "display_name": "Python 3 (ipykernel)",
   "language": "python",
   "name": "python3"
  },
  "language_info": {
   "codemirror_mode": {
    "name": "ipython",
    "version": 3
   },
   "file_extension": ".py",
   "mimetype": "text/x-python",
   "name": "python",
   "nbconvert_exporter": "python",
   "pygments_lexer": "ipython3",
   "version": "3.8.15"
  }
 },
 "nbformat": 4,
 "nbformat_minor": 5
}
