{
 "cells": [
  {
   "cell_type": "code",
   "execution_count": 1,
   "id": "de48cd61-53ec-439c-add6-596681f9fbfb",
   "metadata": {},
   "outputs": [
    {
     "name": "stderr",
     "output_type": "stream",
     "text": [
      "WARNING:config.config:85: ================== Starting Log =====================\n"
     ]
    }
   ],
   "source": [
    "import test"
   ]
  },
  {
   "cell_type": "code",
   "execution_count": 2,
   "id": "c406a108-89c9-477e-a02e-3eebe7087212",
   "metadata": {},
   "outputs": [
    {
     "name": "stderr",
     "output_type": "stream",
     "text": [
      "WARNING:test.test:19: warning message\n",
      "\tINFO:test.test:14: info message\n",
      "\t\tDEBUG:test.test:9: debug message\n"
     ]
    },
    {
     "name": "stdout",
     "output_type": "stream",
     "text": [
      "in warning func\n",
      "in info func\n",
      "in debug func\n"
     ]
    }
   ],
   "source": [
    "test.test_warning_func()\n",
    "test.test_info_func()\n",
    "test.test_debug_func()"
   ]
  },
  {
   "cell_type": "code",
   "execution_count": 3,
   "id": "7de60f7b-1f09-425d-8ad5-059155c89e17",
   "metadata": {},
   "outputs": [],
   "source": [
    "from config import update_logging_level"
   ]
  },
  {
   "cell_type": "code",
   "execution_count": 4,
   "id": "2fdfc7cf-718d-477e-a77f-528539357f8b",
   "metadata": {},
   "outputs": [
    {
     "name": "stderr",
     "output_type": "stream",
     "text": [
      "WARNING:config.config:114: ========= Logging level updated to 10 =========\n"
     ]
    }
   ],
   "source": [
    "import logging\n",
    "update_logging_level(logging.DEBUG)"
   ]
  },
  {
   "cell_type": "code",
   "execution_count": 5,
   "id": "b2159129-e20b-406f-ae99-475a63471dba",
   "metadata": {},
   "outputs": [
    {
     "name": "stderr",
     "output_type": "stream",
     "text": [
      "WARNING:test.test:19: warning message\n",
      "\tINFO:test.test:14: info message\n",
      "\t\tDEBUG:test.test:9: debug message\n"
     ]
    },
    {
     "name": "stdout",
     "output_type": "stream",
     "text": [
      "in warning func\n",
      "in info func\n",
      "in debug func\n"
     ]
    }
   ],
   "source": [
    "test.test_warning_func()\n",
    "test.test_info_func()\n",
    "test.test_debug_func()"
   ]
  },
  {
   "cell_type": "code",
   "execution_count": null,
   "id": "4981b2a8-45fc-42c3-b236-ad7b767dfaf0",
   "metadata": {},
   "outputs": [],
   "source": []
  }
 ],
 "metadata": {
  "kernelspec": {
   "display_name": "Python 3 (ipykernel)",
   "language": "python",
   "name": "python3"
  },
  "language_info": {
   "codemirror_mode": {
    "name": "ipython",
    "version": 3
   },
   "file_extension": ".py",
   "mimetype": "text/x-python",
   "name": "python",
   "nbconvert_exporter": "python",
   "pygments_lexer": "ipython3",
   "version": "3.8.15"
  }
 },
 "nbformat": 4,
 "nbformat_minor": 5
}
