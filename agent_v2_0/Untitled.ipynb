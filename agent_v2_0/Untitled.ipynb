{
 "cells": [
  {
   "cell_type": "code",
   "execution_count": 1,
   "id": "41c597a1-6225-48f9-9bc8-f9a225b448b3",
   "metadata": {},
   "outputs": [],
   "source": [
    "%load_ext autoreload\n",
    "%autoreload 2"
   ]
  },
  {
   "cell_type": "code",
   "execution_count": 2,
   "id": "90a61130-a8f6-4a14-bf40-b9aaab764427",
   "metadata": {},
   "outputs": [],
   "source": [
    "from path_finder import CollisionParams"
   ]
  },
  {
   "cell_type": "code",
   "execution_count": 3,
   "id": "6d598c4d-9ccb-4c7f-bb3c-484702e276d1",
   "metadata": {},
   "outputs": [
    {
     "data": {
      "text/plain": [
       "True"
      ]
     },
     "execution_count": 3,
     "metadata": {},
     "output_type": "execute_result"
    }
   ],
   "source": [
    "CollisionParams(1, ignore_ids=['a', 'b']) == CollisionParams(1,  ignore_ids=['a', 'b'])\n"
   ]
  },
  {
   "cell_type": "code",
   "execution_count": 4,
   "id": "2732c165-11de-49ec-8e66-40e48c095222",
   "metadata": {},
   "outputs": [
    {
     "data": {
      "text/plain": [
       "{CollisionParams(look_ahead_turns=1, ignore_ids=('a',), friendly_light=True, friendly_heavy=True, enemy_light=True, enemy_heavy=True, starting_step=0): 1}"
      ]
     },
     "execution_count": 4,
     "metadata": {},
     "output_type": "execute_result"
    }
   ],
   "source": [
    "d = {CollisionParams(1, ignore_ids=['a']) : 1}\n",
    "d"
   ]
  },
  {
   "cell_type": "markdown",
   "id": "24aa29d1-4e6d-4ead-bf54-196d8c26893b",
   "metadata": {},
   "source": [
    "# TODO\n",
    "- Need to check if path detects collision with self! If so, I should make it so that the ignore_ids is more obvious to set\n",
    "- Test path_to_factory_edge_nearest_pos\n",
    "- check if units are trying to pick up more energy than available at factory\n",
    "    - if so, remove action queue, and tell them to act again"
   ]
  },
  {
   "cell_type": "code",
   "execution_count": 5,
   "id": "d654224f-22bf-404c-a08c-40acde3daf72",
   "metadata": {},
   "outputs": [
    {
     "ename": "ValueError",
     "evalue": "max() arg is an empty sequence",
     "output_type": "error",
     "traceback": [
      "\u001b[1;31m---------------------------------------------------------------------------\u001b[0m",
      "\u001b[1;31mValueError\u001b[0m                                Traceback (most recent call last)",
      "Cell \u001b[1;32mIn[5], line 1\u001b[0m\n\u001b[1;32m----> 1\u001b[0m \u001b[38;5;28;43mmax\u001b[39;49m\u001b[43m(\u001b[49m\u001b[43m[\u001b[49m\u001b[43m]\u001b[49m\u001b[43m)\u001b[49m\n",
      "\u001b[1;31mValueError\u001b[0m: max() arg is an empty sequence"
     ]
    }
   ],
   "source": [
    "max([])"
   ]
  },
  {
   "cell_type": "code",
   "execution_count": null,
   "id": "bdb99c7a-2a0c-44e8-99a3-b768b3ffc22e",
   "metadata": {},
   "outputs": [],
   "source": [
    "import numpy as np\n",
    "arr = np.array([[0, 1, 0, 0, 0, 1],\n",
    " [  2,   0,   4, 154,   0,   1],\n",
    " [0, 1, 0, 0, 0, 1],\n",
    " [ 3,  0,  0,  0,  0, 10],\n",
    " [0, 3, 0, 0, 0, 1],\n",
    " [   1,    0,    0, 9999,    0,    1],\n",
    " [  2,   0,   4, 550,   0,   1],\n",
    " [0, 1, 0, 0, 0, 1],\n",
    " [3, 0, 0, 0, 0, 8],\n",
    " [0, 3, 0, 0, 0, 1],\n",
    " [   1,    0,    0, 9999,    0,    1],\n",
    " [  2,   0,   4, 617,   0,   1],\n",
    " [0, 1, 0, 0, 0, 1],\n",
    " [ 3,  0,  0,  0,  0, 10],\n",
    " [0, 3, 0, 0, 0, 1],\n",
    " [   1,    0,    0, 9999,    0,    1],\n",
    " [  2,   0,   4, 642,   0,   1],\n",
    " [0, 1, 0, 0, 0, 1],\n",
    " [ 3,  0,  0,  0,  0, 10],\n",
    " [0, 3, 0, 0, 0, 1]] )"
   ]
  },
  {
   "cell_type": "code",
   "execution_count": null,
   "id": "8c993ed3-7ae9-4fc6-8178-6a9a83011da7",
   "metadata": {},
   "outputs": [],
   "source": [
    "arr"
   ]
  }
 ],
 "metadata": {
  "kernelspec": {
   "display_name": "Python 3 (ipykernel)",
   "language": "python",
   "name": "python3"
  },
  "language_info": {
   "codemirror_mode": {
    "name": "ipython",
    "version": 3
   },
   "file_extension": ".py",
   "mimetype": "text/x-python",
   "name": "python",
   "nbconvert_exporter": "python",
   "pygments_lexer": "ipython3",
   "version": "3.8.15"
  }
 },
 "nbformat": 4,
 "nbformat_minor": 5
}
