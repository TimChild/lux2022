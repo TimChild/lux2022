{
 "cells": [
  {
   "cell_type": "code",
   "execution_count": 18,
   "id": "67dda433-3cc0-47c2-bc99-9c3d021416bc",
   "metadata": {},
   "outputs": [
    {
     "name": "stdout",
     "output_type": "stream",
     "text": [
      "49424449-0.json\n",
      "49422031-1.json\n",
      "agent_logs\\49422031-1.json\n"
     ]
    }
   ],
   "source": [
    "from pathlib import Path\n",
    "import json\n",
    "from dictor import dictor\n",
    "from pprint import pprint\n",
    "\n",
    "# specify the folder path\n",
    "folder_path = Path('agent_logs/')\n",
    "\n",
    "# get a list of all files in the folder\n",
    "file_list = folder_path.glob('*.json')\n",
    "\n",
    "# sort the list based on last modified time\n",
    "file_list = sorted(file_list, key=lambda x: x.stat().st_mtime)\n",
    "\n",
    "# print the list of files in order of last modified time\n",
    "for file in file_list:\n",
    "    print(file.name)\n",
    "\n",
    "file_to_view = file_list[1]\n",
    "print(file_to_view)\n",
    "\n",
    "with open(file_to_view, 'r') as f:\n",
    "    logs = json.load(f)\n",
    "    "
   ]
  },
  {
   "cell_type": "code",
   "execution_count": 19,
   "id": "2ce631bb-8918-4b90-8cb2-808ae69e3fb7",
   "metadata": {},
   "outputs": [
    {
     "name": "stdout",
     "output_type": "stream",
     "text": [
      "Traceback (most recent call last):\n",
      "  File \"/opt/conda/lib/python3.7/site-packages/kaggle_environments/agent.py\", line 159, in act\n",
      "    action = self.agent(*args)\n",
      "  File \"/opt/conda/lib/python3.7/site-packages/kaggle_environments/agent.py\", line 131, in callable_agent\n",
      "    if callable(agent) \\\n",
      "  File \"/kaggle_simulations/agent/main.py\", line 34, in agent_fn\n",
      "    actions = agent.act(step, obs, remainingOverageTime)\n",
      "  File \"/kaggle_simulations/agent/agent.py\", line 133, in act\n",
      "    unit_recommendations=unit_recommendations[unit_id],\n",
      "  File \"/kaggle_simulations/agent/agent.py\", line 184, in calculate_unit_actions\n",
      "    return self.mining_planner.carry_out(unit, recommendation=mining_rec)\n",
      "  File \"/kaggle_simulations/agent/mining_planner.py\", line 494, in carry_out\n",
      "    actions = route_planner.make_route()\n",
      "  File \"/kaggle_simulations/agent/mining_planner.py\", line 169, in make_route\n",
      "    self._from_factory_actions()\n",
      "  File \"/kaggle_simulations/agent/mining_planner.py\", line 273, in _from_factory_actions\n",
      "    self.unit.pos =\n"
     ]
    }
   ],
   "source": [
    "print(logs[-1][0]['stderr'])"
   ]
  },
  {
   "cell_type": "code",
   "execution_count": 12,
   "id": "d3dbbbab-c46f-4894-b54a-fbd31035e3d8",
   "metadata": {},
   "outputs": [
    {
     "data": {
      "text/plain": [
       "[1, 2]"
      ]
     },
     "execution_count": 12,
     "metadata": {},
     "output_type": "execute_result"
    }
   ],
   "source": [
    "l = [1,2]\n",
    "l.extend([])\n",
    "l"
   ]
  },
  {
   "cell_type": "code",
   "execution_count": null,
   "id": "793d7db6-1966-413a-a7ef-3e43210a51cb",
   "metadata": {},
   "outputs": [],
   "source": []
  }
 ],
 "metadata": {
  "kernelspec": {
   "display_name": "Python 3 (ipykernel)",
   "language": "python",
   "name": "python3"
  },
  "language_info": {
   "codemirror_mode": {
    "name": "ipython",
    "version": 3
   },
   "file_extension": ".py",
   "mimetype": "text/x-python",
   "name": "python",
   "nbconvert_exporter": "python",
   "pygments_lexer": "ipython3",
   "version": "3.8.15"
  }
 },
 "nbformat": 4,
 "nbformat_minor": 5
}
