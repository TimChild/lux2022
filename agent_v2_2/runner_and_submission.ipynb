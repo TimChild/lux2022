{
 "cells": [
  {
   "cell_type": "code",
   "execution_count": 2,
   "id": "5d94888a-eb71-4c92-ac01-ef6ba6a9aab0",
   "metadata": {},
   "outputs": [],
   "source": [
    "%load_ext lab_black\n",
    "%load_ext autoreload\n",
    "%autoreload 2"
   ]
  },
  {
   "cell_type": "markdown",
   "id": "906221b7-c5e2-4da6-907a-2fadbe13a79f",
   "metadata": {},
   "source": [
    "# Run Agent against itself"
   ]
  },
  {
   "cell_type": "code",
   "execution_count": 3,
   "id": "30934b41-3994-40e2-8951-4bd8ec6851ea",
   "metadata": {
    "tags": []
   },
   "outputs": [],
   "source": [
    "import sys\n",
    "import os\n",
    "from pathlib import Path\n",
    "import logging\n",
    "from config import update_logging_level\n",
    "\n",
    "\n",
    "def get_next_filename(folder_path, base_filename, extension):\n",
    "    \"\"\"Returns the next unique filename with an incrementing number.\"\"\"\n",
    "    if not os.path.exists(folder_path):\n",
    "        os.makedirs(folder_path)\n",
    "\n",
    "    i = 1\n",
    "    while True:\n",
    "        filename = f\"{base_filename}_{i}.{extension}\"\n",
    "        file_path = os.path.join(folder_path, filename)\n",
    "        if not os.path.exists(file_path):\n",
    "            return file_path\n",
    "        i += 1"
   ]
  },
  {
   "cell_type": "code",
   "execution_count": 4,
   "id": "922aaa08-5e50-4047-9a07-4888d7b83649",
   "metadata": {},
   "outputs": [],
   "source": [
    "# !luxai-s2 -h"
   ]
  },
  {
   "cell_type": "code",
   "execution_count": 7,
   "id": "c894c9f4-02a2-4e5e-bd64-936db9581adf",
   "metadata": {
    "tags": []
   },
   "outputs": [
    {
     "name": "stdout",
     "output_type": "stream",
     "text": [
      "D:\\GitHub\\lux2022\n",
      "74: Invalid Dig Action for unit \u001b[34m[0] unit_28 UnitType.LIGHT at (29, 37)\u001b[0m - Tried to dig requiring 5 power\n",
      "76: Invalid movement action for unit \u001b[34m[0] unit_20 UnitType.LIGHT at (26, 5)\u001b[0m - Tried to move to (27, 5) requiring 3 power\n",
      "96: Invalid movement action for unit \u001b[34m[0] unit_8 UnitType.HEAVY at (28, 42)\u001b[0m - Tried to move to (28, 41) requiring 20 power\n",
      "97: Invalid movement action for unit \u001b[34m[0] unit_8 UnitType.HEAVY at (28, 42)\u001b[0m - Tried to move to (28, 41) requiring 20 power\n",
      "98: Invalid movement action for unit \u001b[34m[0] unit_8 UnitType.HEAVY at (28, 42)\u001b[0m - Tried to move to (28, 41) requiring 20 power\n",
      "99: Invalid movement action for unit \u001b[34m[0] unit_8 UnitType.HEAVY at (28, 42)\u001b[0m - Tried to move to (28, 41) requiring 20 power\n",
      "100: Invalid movement action for unit \u001b[34m[0] unit_8 UnitType.HEAVY at (28, 42)\u001b[0m - Tried to move to (28, 41) requiring 20 power\n",
      "164: Invalid movement action for unit \u001b[34m[0] unit_35 UnitType.LIGHT at (30, 38)\u001b[0m - Tried to move to (30, 39) requiring 3 power\n",
      "165: Invalid movement action for unit \u001b[34m[0] unit_35 UnitType.LIGHT at (30, 38)\u001b[0m - Tried to move to (30, 39) requiring 3 power\n",
      "166: Invalid movement action for unit \u001b[34m[0] unit_32 UnitType.LIGHT at (34, 5)\u001b[0m - Tried to move to (33, 5) requiring 3 power\n",
      "167: Invalid movement action for unit \u001b[34m[0] unit_32 UnitType.LIGHT at (34, 5)\u001b[0m - Tried to move to (33, 5) requiring 3 power\n",
      "169: Invalid movement action for unit \u001b[34m[0] unit_32 UnitType.LIGHT at (33, 5)\u001b[0m - Tried to move to (32, 5) requiring 3 power\n",
      "170: Invalid movement action for unit \u001b[34m[0] unit_32 UnitType.LIGHT at (33, 5)\u001b[0m - Tried to move to (32, 5) requiring 3 power\n",
      "172: Invalid movement action for unit \u001b[34m[0] unit_32 UnitType.LIGHT at (32, 5)\u001b[0m - Tried to move to (31, 5) requiring 3 power\n",
      "173: Invalid movement action for unit \u001b[34m[0] unit_32 UnitType.LIGHT at (32, 5)\u001b[0m - Tried to move to (31, 5) requiring 3 power\n",
      "196: Invalid movement action for unit \u001b[34m[0] unit_34 UnitType.LIGHT at (26, 39)\u001b[0m - Tried to move to (27, 39) requiring 1 power\n",
      "197: Invalid movement action for unit \u001b[34m[0] unit_34 UnitType.LIGHT at (26, 39)\u001b[0m - Tried to move to (27, 39) requiring 1 power\n",
      "198: Invalid movement action for unit \u001b[34m[0] unit_34 UnitType.LIGHT at (26, 39)\u001b[0m - Tried to move to (27, 39) requiring 1 power\n",
      "199: Invalid movement action for unit \u001b[34m[0] unit_34 UnitType.LIGHT at (26, 39)\u001b[0m - Tried to move to (27, 39) requiring 1 power\n",
      "200: Invalid movement action for unit \u001b[34m[0] unit_34 UnitType.LIGHT at (26, 39)\u001b[0m - Tried to move to (27, 39) requiring 1 power\n",
      "205: Invalid movement action for unit \u001b[34m[0] unit_34 UnitType.LIGHT at (26, 39)\u001b[0m - Tried to move to (25, 39) requiring 2 power\n",
      "279: Invalid movement action for unit \u001b[34m[0] unit_9 UnitType.HEAVY at (3, 6)\u001b[0m - Tried to move to (2, 6) requiring 20 power\n",
      "281: Invalid movement action for unit \u001b[34m[0] unit_9 UnitType.HEAVY at (2, 6)\u001b[0m - Tried to move to (1, 6) requiring 20 power\n",
      "282: Invalid movement action for unit \u001b[34m[0] unit_9 UnitType.HEAVY at (2, 6)\u001b[0m - Tried to move to (1, 6) requiring 20 power\n",
      "283: Invalid movement action for unit \u001b[34m[0] unit_9 UnitType.HEAVY at (2, 6)\u001b[0m - Tried to move to (1, 6) requiring 20 power\n",
      "283: Invalid movement action for unit \u001b[34m[0] unit_43 UnitType.LIGHT at (1, 6)\u001b[0m - Tried to move to (2, 6) requiring 1 power\n",
      "284: Invalid movement action for unit \u001b[34m[0] unit_9 UnitType.HEAVY at (2, 6)\u001b[0m - Tried to move to (1, 6) requiring 20 power\n",
      "284: Invalid movement action for unit \u001b[34m[0] unit_43 UnitType.LIGHT at (1, 6)\u001b[0m - Tried to move to (2, 6) requiring 1 power\n",
      "285: Invalid movement action for unit \u001b[34m[0] unit_9 UnitType.HEAVY at (2, 6)\u001b[0m - Tried to move to (1, 6) requiring 20 power\n",
      "285: Invalid movement action for unit \u001b[34m[0] unit_43 UnitType.LIGHT at (1, 6)\u001b[0m - Tried to move to (2, 6) requiring 1 power\n",
      "285: Invalid movement action for unit \u001b[34m[0] unit_47 UnitType.LIGHT at (1, 5)\u001b[0m - Tried to move to (1, 6) requiring 1 power\n",
      "286: Invalid movement action for unit \u001b[34m[0] unit_9 UnitType.HEAVY at (2, 6)\u001b[0m - Tried to move to (1, 6) requiring 20 power\n",
      "286: Invalid movement action for unit \u001b[34m[0] unit_43 UnitType.LIGHT at (1, 6)\u001b[0m - Tried to move to (2, 6) requiring 1 power\n",
      "286: Invalid movement action for unit \u001b[34m[0] unit_47 UnitType.LIGHT at (1, 5)\u001b[0m - Tried to move to (1, 6) requiring 1 power\n",
      "287: Invalid movement action for unit \u001b[34m[0] unit_9 UnitType.HEAVY at (2, 6)\u001b[0m - Tried to move to (1, 6) requiring 20 power\n",
      "287: Invalid movement action for unit \u001b[34m[0] unit_43 UnitType.LIGHT at (1, 6)\u001b[0m - Tried to move to (2, 6) requiring 1 power\n",
      "287: Invalid movement action for unit \u001b[34m[0] unit_47 UnitType.LIGHT at (1, 5)\u001b[0m - Tried to move to (1, 6) requiring 1 power\n",
      "288: Invalid movement action for unit \u001b[34m[0] unit_9 UnitType.HEAVY at (2, 6)\u001b[0m - Tried to move to (1, 6) requiring 20 power\n",
      "288: Invalid movement action for unit \u001b[34m[0] unit_43 UnitType.LIGHT at (1, 6)\u001b[0m - Tried to move to (2, 6) requiring 1 power\n",
      "288: Invalid movement action for unit \u001b[34m[0] unit_47 UnitType.LIGHT at (1, 5)\u001b[0m - Tried to move to (1, 6) requiring 1 power\n",
      "289: Invalid movement action for unit \u001b[34m[0] unit_9 UnitType.HEAVY at (2, 6)\u001b[0m - Tried to move to (1, 6) requiring 20 power\n",
      "289: Invalid movement action for unit \u001b[34m[0] unit_43 UnitType.LIGHT at (1, 6)\u001b[0m - Tried to move to (2, 6) requiring 1 power\n",
      "289: Invalid movement action for unit \u001b[34m[0] unit_47 UnitType.LIGHT at (1, 5)\u001b[0m - Tried to move to (1, 6) requiring 1 power\n",
      "290: Invalid movement action for unit \u001b[34m[0] unit_9 UnitType.HEAVY at (2, 6)\u001b[0m - Tried to move to (1, 6) requiring 20 power\n",
      "290: Invalid movement action for unit \u001b[34m[0] unit_43 UnitType.LIGHT at (1, 6)\u001b[0m - Tried to move to (2, 6) requiring 1 power\n",
      "290: Invalid movement action for unit \u001b[34m[0] unit_47 UnitType.LIGHT at (1, 5)\u001b[0m - Tried to move to (1, 6) requiring 1 power\n",
      "291: Invalid movement action for unit \u001b[34m[0] unit_9 UnitType.HEAVY at (2, 6)\u001b[0m - Tried to move to (1, 6) requiring 20 power\n",
      "291: Invalid movement action for unit \u001b[34m[0] unit_43 UnitType.LIGHT at (1, 6)\u001b[0m - Tried to move to (2, 6) requiring 1 power\n",
      "291: Invalid movement action for unit \u001b[34m[0] unit_47 UnitType.LIGHT at (1, 5)\u001b[0m - Tried to move to (1, 6) requiring 1 power\n",
      "291: Invalid movement action for unit \u001b[34m[0] unit_49 UnitType.HEAVY at (19, 26)\u001b[0m - Tried to move to (20, 26) requiring 46 power\n",
      "292: Invalid movement action for unit \u001b[34m[0] unit_9 UnitType.HEAVY at (2, 6)\u001b[0m - Tried to move to (1, 6) requiring 20 power\n",
      "292: Invalid movement action for unit \u001b[34m[0] unit_43 UnitType.LIGHT at (1, 6)\u001b[0m - Tried to move to (2, 6) requiring 1 power\n",
      "292: Invalid movement action for unit \u001b[34m[0] unit_47 UnitType.LIGHT at (1, 5)\u001b[0m - Tried to move to (1, 6) requiring 1 power\n",
      "292: Invalid movement action for unit \u001b[34m[0] unit_49 UnitType.HEAVY at (19, 26)\u001b[0m - Tried to move to (20, 26) requiring 46 power\n",
      "293: Invalid movement action for unit \u001b[34m[0] unit_9 UnitType.HEAVY at (2, 6)\u001b[0m - Tried to move to (1, 6) requiring 20 power\n",
      "293: Invalid movement action for unit \u001b[34m[0] unit_43 UnitType.LIGHT at (1, 6)\u001b[0m - Tried to move to (2, 6) requiring 1 power\n",
      "293: Invalid movement action for unit \u001b[34m[0] unit_47 UnitType.LIGHT at (1, 5)\u001b[0m - Tried to move to (1, 6) requiring 1 power\n",
      "293: Invalid movement action for unit \u001b[34m[0] unit_49 UnitType.HEAVY at (19, 26)\u001b[0m - Tried to move to (20, 26) requiring 46 power\n",
      "294: Invalid movement action for unit \u001b[34m[0] unit_9 UnitType.HEAVY at (2, 6)\u001b[0m - Tried to move to (1, 6) requiring 20 power\n",
      "294: Invalid movement action for unit \u001b[34m[0] unit_43 UnitType.LIGHT at (1, 6)\u001b[0m - Tried to move to (2, 6) requiring 1 power\n",
      "294: Invalid movement action for unit \u001b[34m[0] unit_47 UnitType.LIGHT at (1, 5)\u001b[0m - Tried to move to (1, 6) requiring 1 power\n",
      "294: Invalid movement action for unit \u001b[34m[0] unit_49 UnitType.HEAVY at (19, 26)\u001b[0m - Tried to move to (20, 26) requiring 46 power\n",
      "295: Invalid movement action for unit \u001b[34m[0] unit_9 UnitType.HEAVY at (2, 6)\u001b[0m - Tried to move to (1, 6) requiring 20 power\n",
      "295: Invalid movement action for unit \u001b[34m[0] unit_43 UnitType.LIGHT at (1, 6)\u001b[0m - Tried to move to (2, 6) requiring 1 power\n",
      "295: Invalid movement action for unit \u001b[34m[0] unit_47 UnitType.LIGHT at (1, 5)\u001b[0m - Tried to move to (1, 6) requiring 1 power\n",
      "295: Invalid movement action for unit \u001b[34m[0] unit_49 UnitType.HEAVY at (19, 26)\u001b[0m - Tried to move to (20, 26) requiring 46 power\n",
      "296: Invalid movement action for unit \u001b[34m[0] unit_9 UnitType.HEAVY at (2, 6)\u001b[0m - Tried to move to (1, 6) requiring 20 power\n",
      "296: Invalid movement action for unit \u001b[34m[0] unit_43 UnitType.LIGHT at (1, 6)\u001b[0m - Tried to move to (2, 6) requiring 1 power\n",
      "296: Invalid movement action for unit \u001b[34m[0] unit_47 UnitType.LIGHT at (1, 5)\u001b[0m - Tried to move to (1, 6) requiring 1 power\n",
      "297: Invalid movement action for unit \u001b[34m[0] unit_9 UnitType.HEAVY at (2, 6)\u001b[0m - Tried to move to (1, 6) requiring 20 power\n",
      "297: Invalid movement action for unit \u001b[34m[0] unit_43 UnitType.LIGHT at (1, 6)\u001b[0m - Tried to move to (2, 6) requiring 1 power\n",
      "297: Invalid movement action for unit \u001b[34m[0] unit_47 UnitType.LIGHT at (1, 5)\u001b[0m - Tried to move to (1, 6) requiring 1 power\n",
      "298: Invalid movement action for unit \u001b[34m[0] unit_9 UnitType.HEAVY at (2, 6)\u001b[0m - Tried to move to (1, 6) requiring 20 power\n",
      "298: Invalid movement action for unit \u001b[34m[0] unit_43 UnitType.LIGHT at (1, 6)\u001b[0m - Tried to move to (2, 6) requiring 1 power\n",
      "298: Invalid movement action for unit \u001b[34m[0] unit_47 UnitType.LIGHT at (1, 5)\u001b[0m - Tried to move to (1, 6) requiring 1 power\n",
      "299: Invalid movement action for unit \u001b[34m[0] unit_9 UnitType.HEAVY at (2, 6)\u001b[0m - Tried to move to (1, 6) requiring 20 power\n",
      "299: Invalid movement action for unit \u001b[34m[0] unit_43 UnitType.LIGHT at (1, 6)\u001b[0m - Tried to move to (2, 6) requiring 1 power\n",
      "299: Invalid movement action for unit \u001b[34m[0] unit_47 UnitType.LIGHT at (1, 5)\u001b[0m - Tried to move to (1, 6) requiring 1 power\n",
      "211.66555953025818\n"
     ]
    }
   ],
   "source": [
    "%cd D:/GitHub/lux2022\n",
    "\n",
    "\n",
    "def run_games(html: bool, json: bool, seed: int):\n",
    "    next_html_filename = get_next_filename(\n",
    "        \"agent_v2_2/local_replay_htmls\", \"replay\", \"html\"\n",
    "    )\n",
    "    next_json_filename = get_next_filename(\n",
    "        \"agent_v2_2/local_replay_jsons\", \"replay\", \"json\"\n",
    "    )\n",
    "    # if html:\n",
    "    #     !luxai-s2 agent_v2_2/main.py agent_v2_2/main.py -v 2 -s {seed} -l 100 -o {next_html_filename}\n",
    "    #     print(f\"Done making HTML, moving onto JSON\")\n",
    "    # if json:\n",
    "    #     !luxai-s2 agent_v2_2/main.py agent_v2_2/main.py -v 2 -s {seed} -l 100 --replay.save_format 'json' -o {next_json_filename}\n",
    "\n",
    "    if html:\n",
    "        !luxai-s2 agent_v2_2/main.py basic_agent/main.py -v 2 -s {seed} -l 300 -o {next_html_filename}\n",
    "        print(f\"Done making HTML, moving onto JSON\")\n",
    "    if json:\n",
    "        !luxai-s2 agent_v2_2/main.py basic_agent/main.py -v 2 -s {seed} -l 300 --replay.save_format 'json' -o {next_json_filename}\n",
    "\n",
    "\n",
    "# for i in range(5):\n",
    "#     run_games(True, False, 45342 + i)\n",
    "run_games(False, True, 45342 + 1)\n",
    "# !luxai-s2 agent_v2_2/main.py agent_v2_2/main.py -v 2 -s 45342 -l 1000 -o {next_html_filename}\n",
    "# print(f\"Done making HTML, moving onto JSON\")\n",
    "# !luxai-s2 agent_v2_2/main.py agent_v2_2/main.py -v 2 -s 45342 -l 1000 --replay.save_format 'json' -o {next_json_filename}"
   ]
  },
  {
   "cell_type": "markdown",
   "id": "8fda916c-9e10-4e96-908f-d9f5054538f6",
   "metadata": {},
   "source": [
    "## Just double click replay.html to open window in jupyter lab\n",
    "This is just a note for above. The replays work well in tabs"
   ]
  },
  {
   "cell_type": "code",
   "execution_count": null,
   "id": "5ca2329f-8239-4f2a-b5ea-0e2cbda2a641",
   "metadata": {},
   "outputs": [],
   "source": [
    "# import IPython\n",
    "# IPython.display.HTML(filename='replay.html')\n",
    "## This doesn't seem to show anything, don't know why."
   ]
  },
  {
   "cell_type": "code",
   "execution_count": null,
   "id": "aa2ce5e7-e724-4775-b85e-9c35d3efc577",
   "metadata": {},
   "outputs": [],
   "source": [
    "raise"
   ]
  },
  {
   "cell_type": "code",
   "execution_count": null,
   "id": "323e8894-8c69-4adf-a526-89a85b90b1f9",
   "metadata": {},
   "outputs": [],
   "source": []
  },
  {
   "cell_type": "code",
   "execution_count": 14,
   "id": "7cf1e3d9-68a7-4c84-ab82-ff605abba877",
   "metadata": {},
   "outputs": [
    {
     "name": "stdout",
     "output_type": "stream",
     "text": [
      "D:\\GitHub\\lux2022\\agent_v2_2\n"
     ]
    },
    {
     "name": "stderr",
     "output_type": "stream",
     "text": [
      "a actions_util.py\n",
      "a action_validation.py\n",
      "a agent.py\n",
      "a agent_logs\n",
      "a basic_agent.py\n",
      "a combat_planner.py\n",
      "a config.py\n",
      "a factory_action_planner.py\n",
      "a factory_manager.py\n",
      "a lux\n",
      "a main.py\n",
      "a master_state.py\n",
      "a mining_planner.py\n",
      "a new_path_finder.py\n",
      "a pathfinding\n",
      "a path_finder.py\n",
      "a rubble_clearing_planner.py\n",
      "a testing.py\n",
      "a unit_action_planner.py\n",
      "a unit_manager.py\n",
      "a util.py\n",
      "a __init__.py\n",
      "a pathfinding/core\n",
      "a pathfinding/finder\n",
      "a pathfinding/__init__.py\n",
      "a pathfinding/finder/a_star.py\n",
      "a pathfinding/finder/best_first.py\n",
      "a pathfinding/finder/bi_a_star.py\n",
      "a pathfinding/finder/breadth_first.py\n",
      "a pathfinding/finder/dijkstra.py\n",
      "a pathfinding/finder/finder.py\n",
      "a pathfinding/finder/ida_star.py\n",
      "a pathfinding/finder/msp.py\n",
      "a pathfinding/finder/__init__.py\n",
      "a pathfinding/core/diagonal_movement.py\n",
      "a pathfinding/core/grid.py\n",
      "a pathfinding/core/heuristic.py\n",
      "a pathfinding/core/node.py\n",
      "a pathfinding/core/util.py\n",
      "a pathfinding/core/__init__.py\n",
      "a lux/cargo.py\n",
      "a lux/config.py\n",
      "a lux/factory.py\n",
      "a lux/forward_sim.py\n",
      "a lux/kit.py\n",
      "a lux/team.py\n",
      "a lux/unit.py\n",
      "a lux/utils.py\n",
      "a lux/__init__.py\n"
     ]
    }
   ],
   "source": [
    "%cd D:/GitHub/lux2022/agent_v2_2\n",
    "\n",
    "submission_name = \"v2_2_7\"\n",
    "!tar --exclude=\"*.tar.gz\" --exclude=\"*.html\" --exclude=\"*.ipynb\" --exclude=\"replay_jsons\" --exclude=\".gitignore\" --exclude=\"*.log\" --exclude=\"*.json\" --exclude=\"__pycache__\" --exclude=\"_videos\" --exclude=\"*.webm\" --exclude=\"extracted_tar\" --exclude=\".ipynb_checkpoints\" --exclude=\"local_replay_htmls\" --exclude=\"local_replay_jsons\" -cvzf {submission_name}.tar.gz *"
   ]
  },
  {
   "cell_type": "code",
   "execution_count": null,
   "id": "72b3b092-a1de-4bf2-9d64-df36fd18d247",
   "metadata": {},
   "outputs": [],
   "source": [
    "!rm -r extracted_tar\n",
    "!mkdir extracted_tar\n",
    "!tar -xvf submission.tar.gz -C extracted_tar"
   ]
  },
  {
   "cell_type": "code",
   "execution_count": null,
   "id": "5a5e4e19-527c-4a02-87e8-252fa5bdc86c",
   "metadata": {},
   "outputs": [],
   "source": [
    "print('\"Traceback (most recent call last):\\n  File \\\"/opt/conda/lib/python3.7/site-packages/kaggle_environments/agent.py\\\", line 50, in get_last_callable\\n    exec(code_object, env)\\n  File \\\"/kaggle_simulations/agent/main.py\\\", line 6, in <module>\\n    from agent import Agent\\n  File \\\"/kaggle_simulations/agent/agent.py\\\", line 18, in <module>\\n    from unit_manager import UnitManager\\n  File \\\"/kaggle_simulations/agent/unit_manager.py\\\", line 7, in <module>\\n    from luxai2022.unit import UnitType\\nModuleNotFoundError: No module named \"luxai2022\"\\n\\nDuring handling of the above exception, another exception occurred:\\n\\nTraceback (most recent call last):\\n  File \\\"/opt/conda/lib/python3.7/site-packages/kaggle_environments/agent.py\\\", line 159, in act\\n    action = self.agent(*args)\\n  File \\\"/opt/conda/lib/python3.7/site-packages/kaggle_environments/agent.py\\\", line 125, in callable_agent\\n    agent = get_last_callable(raw_agent, path=raw) or raw_agent\\n  File \\\"/opt/conda/lib/python3.7/site-packages/kaggle_environments/agent.py\\\", line 64, in get\"')"
   ]
  },
  {
   "cell_type": "code",
   "execution_count": null,
   "id": "c7ff49a3-e75d-489b-8758-c2d302de4acd",
   "metadata": {},
   "outputs": [],
   "source": [
    "import json\n",
    "from pprint import pprint\n",
    "with open(\"zlog.json\", 'r') as f:\n",
    "    j = json.load(f)\n",
    "# print(j[0][0]['stderr'])\n",
    "pprint(j)\n"
   ]
  },
  {
   "cell_type": "code",
   "execution_count": 10,
   "id": "b0615579-db98-4b59-9581-e41b94d6bebc",
   "metadata": {},
   "outputs": [
    {
     "data": {
      "text/plain": [
       "[5, 1, 2, 3]"
      ]
     },
     "execution_count": 10,
     "metadata": {},
     "output_type": "execute_result"
    }
   ],
   "source": [
    "l = list([1, 2, 3])\n",
    "l.insert(0, 5)\n",
    "l"
   ]
  }
 ],
 "metadata": {
  "kernelspec": {
   "display_name": "Python 3 (ipykernel)",
   "language": "python",
   "name": "python3"
  },
  "language_info": {
   "codemirror_mode": {
    "name": "ipython",
    "version": 3
   },
   "file_extension": ".py",
   "mimetype": "text/x-python",
   "name": "python",
   "nbconvert_exporter": "python",
   "pygments_lexer": "ipython3",
   "version": "3.8.15"
  }
 },
 "nbformat": 4,
 "nbformat_minor": 5
}
