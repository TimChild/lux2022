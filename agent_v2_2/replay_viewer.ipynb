{
 "cells": [
  {
   "cell_type": "code",
   "execution_count": null,
   "id": "6fef0703-1ce6-480b-b0c2-2b49535e0f22",
   "metadata": {},
   "outputs": [],
   "source": [
    "%load_ext autoreload\n",
    "%autoreload 2"
   ]
  },
  {
   "cell_type": "code",
   "execution_count": null,
   "id": "a9f447b1-9094-4597-a929-872d8417db65",
   "metadata": {},
   "outputs": [],
   "source": [
    "from pathlib import Path\n",
    "import json\n",
    "from dictor import dictor\n",
    "from pprint import pprint\n",
    "import os\n",
    "import re\n",
    "\n",
    "# specify the folder path\n",
    "folder_path = Path('replay_jsons/')\n",
    "\n",
    "def get_json_files(directory: str) -> dict:\n",
    "    \"\"\"\n",
    "    Recursively traverse a directory tree and return a dictionary\n",
    "    where the keys are the names of each subdirectory and the values\n",
    "    are the names of the .json files in those subdirectories.\n",
    "\n",
    "    Args:\n",
    "        directory (str): The path to the directory to traverse.\n",
    "\n",
    "    Returns:\n",
    "        dict: A dictionary where the keys are subdirectory names and\n",
    "        the values are lists of .json file names in those subdirectories.\n",
    "    \"\"\"\n",
    "    # Initialize an empty dictionary to store the results\n",
    "    result = {}\n",
    "\n",
    "    # Create a Path object for the directory\n",
    "    directory_path = Path(directory)\n",
    "\n",
    "    # Traverse the directory tree recursively\n",
    "    for subdirectory in directory_path.iterdir():\n",
    "        # Check if the item is a directory\n",
    "        if subdirectory.is_dir() and not subdirectory.name.startswith('.'):\n",
    "            # Get the name of the subdirectory\n",
    "            subdirectory_name = subdirectory.name\n",
    "\n",
    "            # Initialize an empty list to store the JSON file names\n",
    "            json_files = []\n",
    "\n",
    "            # Traverse the subdirectory and find all JSON files\n",
    "            for json_file in subdirectory.glob(\"[0-9]*.json\"):\n",
    "                if re.match(r'^\\d+\\.json$', os.path.split(json_file)[-1]):\n",
    "                    # Add the name of the JSON file to the list\n",
    "                    json_files.append(json_file)\n",
    "\n",
    "            # Add the list of JSON file names to the result dictionary\n",
    "            result[subdirectory_name] = json_files[0].resolve()\n",
    "        elif subdirectory.name.endswith('.json'):\n",
    "            result[subdirectory.name.split('.')[0]] = subdirectory.resolve()\n",
    "\n",
    "    # Return the result dictionary\n",
    "    return result\n",
    "\n",
    "\n",
    "files = get_json_files(folder_path)\n",
    "print(files.keys())\n",
    "\n",
    "file_to_view = files['v225_opp_does_nothing']\n",
    "print(f'Will be viewing:\\n\\t{file_to_view}')\n",
    "\n",
    "with open(file_to_view, 'r') as f:\n",
    "    full_replay = json.load(f)\n",
    "\n",
    "seed = int(dictor(full_replay, 'configuration.seed'))\n",
    "my_team = dictor(full_replay, 'info.TeamNames').index('Tim Child')\n",
    "my_player = f'player_{my_team}'\n",
    "replay_steps = full_replay['steps']\n",
    "print(f'seed = {seed}\\nmy team = {my_team}, my_player = {my_player}')"
   ]
  },
  {
   "cell_type": "code",
   "execution_count": null,
   "id": "66814226-072f-44c2-afab-880dbd524c1b",
   "metadata": {},
   "outputs": [],
   "source": [
    "from agent import Agent\n",
    "from util import show_env, MyReplayEnv, CollectInfoFromEnv\n",
    "from config import update_logging_level\n",
    "import logging"
   ]
  },
  {
   "cell_type": "code",
   "execution_count": null,
   "id": "6c6ef0f6-fb0d-4c94-a76b-b6864dfca4d0",
   "metadata": {},
   "outputs": [],
   "source": [
    "# Clear log file\n",
    "LOGFILE = 'logfile.log'\n",
    "with open(LOGFILE, 'w') as f:\n",
    "    pass\n",
    "\n",
    "info_collector = CollectInfoFromEnv(player=my_player)\n",
    "myenv = MyReplayEnv(seed, Agent, full_replay, log_file_path=LOGFILE, my_player=my_player, collector=info_collector)\n",
    "myenv.run_early_setup()\n",
    "# myenv.show()"
   ]
  },
  {
   "cell_type": "code",
   "execution_count": null,
   "id": "b7404b40-9be8-4ea1-8c1d-7ed9b583ced6",
   "metadata": {
    "tags": []
   },
   "outputs": [],
   "source": [
    "update_logging_level(logging.WARNING)\n",
    "# myenv.run_until_log_increases(200, max_step=100)\n",
    "# myenv.show()"
   ]
  },
  {
   "cell_type": "code",
   "execution_count": null,
   "id": "3fa17ace-0aaa-49be-bb59-52b5bc5fe40e",
   "metadata": {},
   "outputs": [],
   "source": [
    "import copy\n",
    "# backup_env = copy.deepcopy(myenv)"
   ]
  },
  {
   "cell_type": "code",
   "execution_count": null,
   "id": "74348c8c-8378-4085-bb2b-88713032c0e2",
   "metadata": {},
   "outputs": [],
   "source": [
    "# myenv = copy.deepcopy(backup_env)\n",
    "update_logging_level(logging.WARNING)\n",
    "# myenv.run_to_step(36)\n",
    "myenv.run_to_step(94)\n",
    "myenv.show()"
   ]
  },
  {
   "cell_type": "code",
   "execution_count": null,
   "id": "5a98f3ec-7539-444c-bfc1-1a78930ee34f",
   "metadata": {
    "tags": []
   },
   "outputs": [],
   "source": [
    "fig = info_collector.plot_unit_last_update_step()\n",
    "fig.update_layout(height=600, width=700)\n",
    "fig.update_traces(mode='lines')\n",
    "fig.show()\n",
    "# pass"
   ]
  },
  {
   "cell_type": "code",
   "execution_count": null,
   "id": "cf00fb43-fcac-48c5-9c80-12015d86475f",
   "metadata": {},
   "outputs": [],
   "source": [
    "update_logging_level(logging.DEBUG)\n",
    "# myenv.run_to_step(8)\n",
    "# myenv.undo()\n",
    "# myenv.step()\n",
    "myenv.step()\n",
    "myenv.show()"
   ]
  },
  {
   "cell_type": "code",
   "execution_count": null,
   "id": "40e81649-a0be-4d02-8306-cf9a74869a12",
   "metadata": {},
   "outputs": [],
   "source": [
    "myenv.get_actions()"
   ]
  },
  {
   "cell_type": "code",
   "execution_count": null,
   "id": "d0fa3245-5395-4c36-8f9f-9d6afd79157d",
   "metadata": {},
   "outputs": [],
   "source": [
    "myenv.env.state.units['player_0'].keys()\n",
    "myenv.other_player"
   ]
  },
  {
   "cell_type": "markdown",
   "id": "671aa7ee-7ee9-4ff9-b4ae-ff9f5da20a57",
   "metadata": {},
   "source": [
    "## Run one step at a time"
   ]
  },
  {
   "cell_type": "code",
   "execution_count": null,
   "id": "a883a594-429b-4454-bef9-b7df42d6c384",
   "metadata": {},
   "outputs": [],
   "source": [
    "agent = myenv.agent\n",
    "# unit = agent.master.units.get_unit('unit_9')\n",
    "unit = agent.master.units.get_unit('unit_21')"
   ]
  },
  {
   "cell_type": "code",
   "execution_count": null,
   "id": "ae52fb01-de62-4074-8ec4-3300585f6226",
   "metadata": {},
   "outputs": [],
   "source": [
    "unit.status.last_action_update_step"
   ]
  },
  {
   "cell_type": "code",
   "execution_count": null,
   "id": "ad7c69a4-3e49-4564-b3a3-5258ede93608",
   "metadata": {},
   "outputs": [],
   "source": [
    "import numpy as np\n",
    "from util import show_map_array, power_cost_of_path\n",
    "import util"
   ]
  },
  {
   "cell_type": "code",
   "execution_count": null,
   "id": "a82f123e-0d01-49ee-a179-85f33fcbcb28",
   "metadata": {},
   "outputs": [],
   "source": [
    "connected_zeros = util.connected_array_values_from_pos(agent.master.maps.rubble, (19,36), 0)\n",
    "other_lichen = agent.master.maps.lichen_strains\n",
    "lichen = agent.master.game_state.board.lichen\n",
    "figs = []\n",
    "for arr in [connected_zeros, other_lichen, lichen]:\n",
    "    figs.append(show_map_array(arr).update_layout(width=500, height=400))\n",
    "fig = util.figures_to_subplots(figs).update_layout(width=900, height=700).update_yaxes(autorange='reversed')\n",
    "fig.show()"
   ]
  },
  {
   "cell_type": "code",
   "execution_count": null,
   "id": "071d4bf5-ffd2-4d6c-9f8a-12412bbe11ad",
   "metadata": {},
   "outputs": [],
   "source": [
    "env.env.state.board.lichen.sum()"
   ]
  },
  {
   "cell_type": "code",
   "execution_count": null,
   "id": "c1d8350a-201a-4f48-aa6a-34b6f04e7db2",
   "metadata": {},
   "outputs": [],
   "source": [
    "np.sum((connected_zeros > 0) & (other_lichen < 0))"
   ]
  },
  {
   "cell_type": "code",
   "execution_count": null,
   "id": "bb1466f7-36d2-4aac-8b60-c0aba3d990a9",
   "metadata": {},
   "outputs": [],
   "source": [
    "# power_cost_of_path(path = np.array([[2,3], [2,4]]), agent.master.maps.rubble, 'LIGHT', \n"
   ]
  },
  {
   "cell_type": "code",
   "execution_count": null,
   "id": "2e1a18d5-964d-473d-b2bf-84ae620ec72c",
   "metadata": {},
   "outputs": [],
   "source": []
  },
  {
   "cell_type": "code",
   "execution_count": null,
   "id": "e51ad191-e11e-4e8b-80b5-8e8a754ffd16",
   "metadata": {},
   "outputs": [],
   "source": [
    "arr = env.env.state.board.lichen_strains[20:30,25:35]\n",
    "arr2 = np.zeros_like(arr)\n",
    "arr2[:5,5:] = 1\n",
    "np.sum((arr & arr2 > 0))"
   ]
  },
  {
   "cell_type": "code",
   "execution_count": null,
   "id": "5c603718-26e3-46a4-b9f1-b22f8bcc2d9e",
   "metadata": {},
   "outputs": [],
   "source": [
    "show_map_array(agent.master.game_state.board.lichen_strains)"
   ]
  }
 ],
 "metadata": {
  "kernelspec": {
   "display_name": "Python 3 (ipykernel)",
   "language": "python",
   "name": "python3"
  },
  "language_info": {
   "codemirror_mode": {
    "name": "ipython",
    "version": 3
   },
   "file_extension": ".py",
   "mimetype": "text/x-python",
   "name": "python",
   "nbconvert_exporter": "python",
   "pygments_lexer": "ipython3",
   "version": "3.8.15"
  }
 },
 "nbformat": 4,
 "nbformat_minor": 5
}
