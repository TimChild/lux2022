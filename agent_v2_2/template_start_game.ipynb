{
 "cells": [
  {
   "cell_type": "code",
   "execution_count": null,
   "id": "baa1c405-2d3f-435c-abd3-84688f19d9e9",
   "metadata": {},
   "outputs": [],
   "source": [
    "%load_ext lab_black\n",
    "%load_ext autoreload\n",
    "%autoreload 2\n",
    "\n",
    "import plotly.graph_objects as go\n",
    "import numpy as np\n",
    "import pandas as pd\n",
    "import logging\n",
    "import sys\n",
    "import os\n",
    "from pathlib import Path\n",
    "\n",
    "from util import MyEnv, figures_to_subplots, show_env\n",
    "from config import update_logging_level\n",
    "\n",
    "parent_dir = Path(os.getcwd()).resolve().parent\n",
    "if str(parent_dir) not in sys.path:\n",
    "    print(f\"Adding {parent_dir} to path\")\n",
    "    sys.path.insert(0, str(parent_dir))\n",
    "\n",
    "from agent import Agent"
   ]
  },
  {
   "cell_type": "code",
   "execution_count": null,
   "id": "c279d560-1143-47ed-8da2-bedf79f83e07",
   "metadata": {},
   "outputs": [],
   "source": [
    "update_logging_level(logging.WARNING)\n",
    "seed = 42\n",
    "# seed = 178220973\n",
    "\n",
    "myenv = MyEnv(seed, Agent, Agent)\n",
    "myenv.run_early_setup()\n",
    "# myenv.show()"
   ]
  },
  {
   "cell_type": "code",
   "execution_count": null,
   "id": "f1ade2c5-8b5e-4321-8414-8d7b3a887ccc",
   "metadata": {},
   "outputs": [],
   "source": [
    "update_logging_level(logging.WARNING)\n",
    "myenv.run_to_step(69)\n",
    "# myenv.show()"
   ]
  },
  {
   "cell_type": "code",
   "execution_count": null,
   "id": "2977beba-669e-4bc2-bc61-f01a6aa3a1b5",
   "metadata": {},
   "outputs": [],
   "source": [
    "update_logging_level(logging.INFO)\n",
    "myenv.step()\n",
    "myenv.show()"
   ]
  },
  {
   "cell_type": "code",
   "execution_count": null,
   "id": "3e53fc06-e545-42f2-9e0b-043b9d6356d5",
   "metadata": {},
   "outputs": [],
   "source": []
  }
 ],
 "metadata": {
  "kernelspec": {
   "display_name": "Python 3 (ipykernel)",
   "language": "python",
   "name": "python3"
  },
  "language_info": {
   "codemirror_mode": {
    "name": "ipython",
    "version": 3
   },
   "file_extension": ".py",
   "mimetype": "text/x-python",
   "name": "python",
   "nbconvert_exporter": "python",
   "pygments_lexer": "ipython3",
   "version": "3.8.15"
  }
 },
 "nbformat": 4,
 "nbformat_minor": 5
}
